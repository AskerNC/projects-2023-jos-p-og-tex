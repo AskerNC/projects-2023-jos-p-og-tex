{
 "cells": [
  {
   "attachments": {},
   "cell_type": "markdown",
   "metadata": {},
   "source": [
    "# Solving the Malthus model"
   ]
  },
  {
   "attachments": {},
   "cell_type": "markdown",
   "metadata": {},
   "source": [
    "> **Table of contents:** \n",
    "> 1. This is *not* meant to be an example of an actual **model analysis project**, just an example of how to structure such a project.\n",
    "> 1. Remember the general advice on structuring and commenting your code\n",
    "> 1. The `modelproject.py` file includes a function which could be used multiple times in this notebook."
   ]
  },
  {
   "attachments": {},
   "cell_type": "markdown",
   "metadata": {},
   "source": [
    "*Imports and set magics*"
   ]
  },
  {
   "cell_type": "code",
   "execution_count": 54,
   "metadata": {},
   "outputs": [
    {
     "name": "stdout",
     "output_type": "stream",
     "text": [
      "The autoreload extension is already loaded. To reload it, use:\n",
      "  %reload_ext autoreload\n"
     ]
    }
   ],
   "source": [
    "import numpy as np\n",
    "from scipy import optimize\n",
    "import sympy as sm\n",
    "\n",
    "# plotting\n",
    "import matplotlib.pyplot as plt\n",
    "plt.rcParams.update({\"axes.grid\":True,\"grid.color\":\"black\",\"grid.alpha\":\"0.25\",\"grid.linestyle\":\"--\"})\n",
    "plt.rcParams.update({'font.size': 14})\n",
    "\n",
    "# autoreload modules when code is run\n",
    "%load_ext autoreload\n",
    "%autoreload 2\n",
    "\n",
    "# local modules\n",
    "import modelproject"
   ]
  },
  {
   "cell_type": "markdown",
   "metadata": {},
   "source": [
    "# Model description"
   ]
  },
  {
   "cell_type": "markdown",
   "metadata": {},
   "source": [
    "**Write out the model in equations here.** \n",
    "\n",
    "Make sure you explain well the purpose of the model and comment so that other students who may not have seen it before can follow.  "
   ]
  },
  {
   "attachments": {},
   "cell_type": "markdown",
   "metadata": {},
   "source": [
    "We consider the **standard Malthus-model**. We assume discrete time, $t\\in\\{0,1,\\dots\\}$ and a closed economy. Therefore, total production equals income. \n",
    "\n",
    "An assumption in the Malthus model is that labor is subject to diminishing returns in production. We model this with a Codd-Douglas production function:\n",
    "\n",
    "$$\n",
    "Y_{t}=L_{t}^{1-\\alpha}(AX)^{\\alpha}\n",
    "$$\n",
    "\n",
    "1. $L_t$ is labor (we assume no unemployment)\n",
    "3. $A$ is technology (is constant over time)\n",
    "4. $X$ is land (is constant over time)\n",
    "5. $Y_t$ = is GDP (production)\n",
    "\n",
    "Output pr. worker is thus given by:\n",
    "\n",
    "$$\n",
    "y_{t}=\\left(\\frac{AX}{L_t}\\right)^{\\alpha}\n",
    "$$\n",
    "\n",
    "Since $\\alpha<1$ (diminishing returns) we have that as L increases, output per worker declines, given that AX is constant.\n",
    "\n",
    "The second assumption is that the birth rate in the economy (i.e., births per capita) rises with per capita income:\n",
    "\n",
    "$$\n",
    "n_{t} = \\eta y_{t}, \\ \\ \\ \\eta>0\n",
    "$$\n",
    "\n",
    "We assume that the number of preferred kids is rising in per capita income.\n",
    "\n",
    "The above equation implies that each parent uses a fraction of their income to care for children and thus consumes the remaining fraction. \n",
    "\n",
    "The size of the labor force evolves according to:\n",
    "\n",
    "$$\n",
    "L_{t+1} = n_{t}L_{t}+(1-\\mu)L_{t}, \\ \\ \\ L_{0} \\ given\n",
    "$$\n",
    "\n",
    "The above equation implies that $\\mu$ represents mortality.\n",
    "\n",
    "The law of motion for the labor force will therefore be given by:\n",
    "\n",
    "$$\n",
    "L_{t+1} = \\eta L_{t}^{1-\\alpha}(AX)^{\\alpha}+(1-\\mu)L_{t}, \\ \\ \\ L_{0} \\ given\n",
    "$$"
   ]
  },
  {
   "cell_type": "markdown",
   "metadata": {},
   "source": [
    "## Analytical solution"
   ]
  },
  {
   "cell_type": "markdown",
   "metadata": {},
   "source": [
    "If your model allows for an analytical solution, you should provide here.\n",
    "\n",
    "You may use Sympy for this. Then you can characterize the solution as a function of a parameter of the model.\n",
    "\n",
    "To characterize the solution, first derive a steady state equation as a function of a parameter using Sympy.solve and then turn it into a python function by Sympy.lambdify. See the lecture notes for details. "
   ]
  },
  {
   "cell_type": "code",
   "execution_count": 55,
   "metadata": {},
   "outputs": [],
   "source": [
    "Yt = sm.symbols('Y_t')\n",
    "Lt = sm.symbols('L_t')\n",
    "Lt1 = sm.symbols('L_{t+1}')\n",
    "A = sm.symbols('A')\n",
    "X = sm.symbols('X')\n",
    "yt = sm.symbols('y_t')\n",
    "nt = sm.symbols('n_t')\n",
    "alpha = sm.symbols('alpha')\n",
    "mu = sm.symbols('mu')\n",
    "eta = sm.symbols('eta')\n",
    "L_star = sm.symbols('L^*')\n",
    "y_star = sm.symbols('y^*')"
   ]
  },
  {
   "cell_type": "code",
   "execution_count": 56,
   "metadata": {},
   "outputs": [
    {
     "data": {
      "text/latex": [
       "$\\displaystyle L_{t+1} = L_{t} \\left(1 - \\mu\\right) + L_{t}^{1 - \\alpha} \\eta \\left(A X\\right)^{\\alpha}$"
      ],
      "text/plain": [
       "Eq(L_{t+1}, L_t*(1 - mu) + L_t**(1 - alpha)*eta*(A*X)**alpha)"
      ]
     },
     "execution_count": 56,
     "metadata": {},
     "output_type": "execute_result"
    }
   ],
   "source": [
    "# Law of motion\n",
    "LOM = sm.Eq(Lt1, eta*Lt**(1-alpha)*(A*X)**alpha+(1-mu)*Lt)\n",
    "LOM"
   ]
  },
  {
   "attachments": {},
   "cell_type": "markdown",
   "metadata": {},
   "source": [
    "To find the steady state value for the labor force we substitute, such that $L^* = L_{t} = L_{t+1}$ and solve for $L^*$:"
   ]
  },
  {
   "cell_type": "code",
   "execution_count": 57,
   "metadata": {},
   "outputs": [
    {
     "data": {
      "text/latex": [
       "$\\displaystyle \\left(\\frac{\\eta \\left(A X\\right)^{\\alpha}}{\\mu}\\right)^{\\frac{1}{\\alpha}}$"
      ],
      "text/plain": [
       "(eta*(A*X)**alpha/mu)**(1/alpha)"
      ]
     },
     "execution_count": 57,
     "metadata": {},
     "output_type": "execute_result"
    }
   ],
   "source": [
    "# Substitute for L*\n",
    "SS = sm.Eq(L_star, eta*L_star**(1-alpha)*(A*X)**alpha+(1-mu)*L_star)\n",
    "\n",
    "# Solve for L_star\n",
    "L_star_sol = sm.solve(SS, L_star)[0]\n",
    "\n",
    "# Print the solution\n",
    "L_star_sol"
   ]
  },
  {
   "attachments": {},
   "cell_type": "markdown",
   "metadata": {},
   "source": [
    "We can turn the expression for steady state labor force into a Python-function to evaluate the solution:"
   ]
  },
  {
   "cell_type": "code",
   "execution_count": 62,
   "metadata": {},
   "outputs": [
    {
     "data": {
      "text/plain": [
       "1072.2672220103232"
      ]
     },
     "execution_count": 62,
     "metadata": {},
     "output_type": "execute_result"
    }
   ],
   "source": [
    "ss_L_func = sm.lambdify((A,X,eta,mu,alpha),L_star_sol)\n",
    "ss_L_func(1,1,0.2,0.02,0.33)"
   ]
  },
  {
   "cell_type": "markdown",
   "metadata": {},
   "source": [
    "## Numerical solution"
   ]
  },
  {
   "cell_type": "markdown",
   "metadata": {},
   "source": [
    "You can always solve a model numerically. \n",
    "\n",
    "Define first the set of parameters you need. \n",
    "\n",
    "Then choose one of the optimization algorithms that we have gone through in the lectures based on what you think is most fitting for your model.\n",
    "\n",
    "Are there any problems with convergence? Does the model converge for all starting values? Make a lot of testing to figure these things out. "
   ]
  },
  {
   "cell_type": "code",
   "execution_count": 79,
   "metadata": {},
   "outputs": [
    {
     "name": "stdout",
     "output_type": "stream",
     "text": [
      "the steady state for L is 0.5925925925925908\n"
     ]
    }
   ],
   "source": [
    "eta = 0.2\n",
    "mu = 0.3\n",
    "alpha = 1/3\n",
    "A = 1\n",
    "X = 2\n",
    "\n",
    "obj_lss = lambda lss: lss - (eta*lss**(1-alpha)*(A*X)**(alpha)+(1-mu)*lss)\n",
    "result = optimize.root_scalar(obj_lss,bracket=[0.1,1000],method='brentq')\n",
    "\n",
    "print('the steady state for L is',result.root)   "
   ]
  },
  {
   "cell_type": "markdown",
   "metadata": {},
   "source": [
    "# Further analysis"
   ]
  },
  {
   "cell_type": "markdown",
   "metadata": {},
   "source": [
    "Make detailed vizualizations of how your model changes with parameter values. \n",
    "\n",
    "Try to make an extension of the model. "
   ]
  },
  {
   "cell_type": "markdown",
   "metadata": {},
   "source": [
    "# Conclusion"
   ]
  },
  {
   "cell_type": "markdown",
   "metadata": {},
   "source": [
    "Add concise conclusion. "
   ]
  }
 ],
 "metadata": {
  "kernelspec": {
   "display_name": "base",
   "language": "python",
   "name": "python3"
  },
  "language_info": {
   "codemirror_mode": {
    "name": "ipython",
    "version": 3
   },
   "file_extension": ".py",
   "mimetype": "text/x-python",
   "name": "python",
   "nbconvert_exporter": "python",
   "pygments_lexer": "ipython3",
   "version": "3.9.16"
  },
  "toc-autonumbering": true,
  "vscode": {
   "interpreter": {
    "hash": "47ef90cdf3004d3f859f1fb202523c65c07ba7c22eefd261b181f4744e2d0403"
   }
  }
 },
 "nbformat": 4,
 "nbformat_minor": 4
}
