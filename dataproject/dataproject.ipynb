{
 "cells": [
  {
   "attachments": {},
   "cell_type": "markdown",
   "metadata": {},
   "source": [
    "# Rainy days on the stock market"
   ]
  },
  {
   "attachments": {},
   "cell_type": "markdown",
   "metadata": {},
   "source": [
    "Dataproject by Josefine Pedersen, Viktor Texel and Pernille Svendsen"
   ]
  },
  {
   "attachments": {},
   "cell_type": "markdown",
   "metadata": {},
   "source": [
    "> **Table of contents** \n",
    "> - Import and set magics\n",
    "> - Introduction\n",
    "> - Read and clean data from DMI and Yahoo Finance\n",
    "> - Exploring the datasets\n",
    "> - Merging the datasets\n",
    "> - Analysis\n",
    "> - Conclusion"
   ]
  },
  {
   "attachments": {},
   "cell_type": "markdown",
   "metadata": {},
   "source": [
    "*Imports and set magics:*"
   ]
  },
  {
   "cell_type": "code",
   "execution_count": 1,
   "metadata": {},
   "outputs": [],
   "source": [
    "# Import tools\n",
    "import pandas as pd\n",
    "import numpy as np\n",
    "import matplotlib.pyplot as plt\n",
    "import ipywidgets as widgets\n",
    "import requests # library for making HTTP requests\n",
    "import datetime as dt # library for handling date and time objects\n",
    "from PIL import Image\n",
    "from scipy.stats import pearsonr\n",
    "\n",
    "# Autoreload modules when code is run\n",
    "%load_ext autoreload\n",
    "%autoreload 2\n",
    "\n",
    "# User written modules\n",
    "import dataproject as dp"
   ]
  },
  {
   "attachments": {},
   "cell_type": "markdown",
   "metadata": {},
   "source": [
    "*Installation and import of data-specific tools and packages:*\n",
    "Note: If the packages for importing data has not been installed, un-comment and run."
   ]
  },
  {
   "cell_type": "code",
   "execution_count": 2,
   "metadata": {},
   "outputs": [],
   "source": [
    "\n",
    "# We install a package to inspect data from DMI (The Danish Meteorological Institute):\n",
    "#%pip install dmi-open-data\n",
    "\n",
    "# We install nescesarry packages from Yahoo Finance\n",
    "#%pip install yfinance\n",
    "#%pip install yahoofinancials\n",
    "\n",
    "import yfinance as yf\n",
    "from yahoofinancials import YahooFinancials"
   ]
  },
  {
   "attachments": {},
   "cell_type": "markdown",
   "metadata": {},
   "source": [
    "# Introduction\n",
    "\n",
    "In this dataproject we wish to explore if there could be a correlation between weather and developments on the stock market. Through API's we import datasets from DMI and Yahoo Finance to examine whether or not there is a correlation between price fluctuations in the danish OMX C25-index and the amount of precipitation in Denmark. \n",
    "\n",
    "To do so, we carefully select comparable data from our datasets, clean it and analyze it using different python-tools. We find that there is litte-to-no correlation between precipitation and fluctuations in the share price of OMX C25 in Denmark.  "
   ]
  },
  {
   "attachments": {},
   "cell_type": "markdown",
   "metadata": {},
   "source": [
    "# Read and clean data from DMI and Yahoo Finance"
   ]
  },
  {
   "attachments": {},
   "cell_type": "markdown",
   "metadata": {},
   "source": [
    "In this section we import our data through API's and load it. To do so, the packages *dmi-open data*, *yfinance* and *yfinancials* needs to be installed. These are included at the top in our *import and set magics* section and can be installed by removing the '#' and then running the code. "
   ]
  },
  {
   "attachments": {},
   "cell_type": "markdown",
   "metadata": {},
   "source": [
    "**We import data from DMI and print the available parameters**:"
   ]
  },
  {
   "cell_type": "code",
   "execution_count": 3,
   "metadata": {},
   "outputs": [
    {
     "data": {
      "text/plain": [
       "array(['temp_dew', 'humidity', 'cloud_cover', 'temp_max_past12h',\n",
       "       'pressure_at_sea', 'wind_speed', 'temp_soil_max_past1h', 'weather',\n",
       "       'wind_dir', 'temp_dry', 'precip_dur_past10min', 'temp_grass',\n",
       "       'leav_hum_dur_past10min', 'temp_min_past1h', 'precip_past1min',\n",
       "       'precip_past1h', 'pressure', 'radia_glob', 'wind_speed_past1h',\n",
       "       'humidity_past1h', 'sun_last10min_glob', 'precip_past10min',\n",
       "       'visib_mean_last10min', 'leav_hum_dur_past1h', 'visibility',\n",
       "       'temp_soil', 'temp_soil_min_past1h', 'wind_min',\n",
       "       'temp_grass_min_past1h', 'wind_min_past1h', 'cloud_height',\n",
       "       'temp_min_past12h', 'wind_max_per10min_past1h', 'temp_max_past1h',\n",
       "       'temp_soil_mean_past1h', 'wind_max', 'wind_dir_past1h',\n",
       "       'precip_dur_past1h', 'temp_grass_mean_past1h',\n",
       "       'wind_gust_always_past1h', 'sun_last1h_glob', 'temp_mean_past1h',\n",
       "       'radia_glob_past1h', 'temp_grass_max_past1h', 'snow_depth_man'],\n",
       "      dtype=object)"
      ]
     },
     "execution_count": 3,
     "metadata": {},
     "output_type": "execute_result"
    }
   ],
   "source": [
    "# We use an API-key given to us from DMI's database to retrieve data\n",
    "api_key = 'bd463c7d-f6f8-431d-a5a7-c466766a8363'\n",
    "DMI_URL = 'https://dmigw.govcloud.dk/v2/metObs/collections/observation/items'\n",
    "\n",
    "dp.import_data_dmi(api_key,DMI_URL)"
   ]
  },
  {
   "attachments": {},
   "cell_type": "markdown",
   "metadata": {},
   "source": [
    "From the parameters above, we select the parameter *precip_past1h* which returns the amount of precipitation the last hour in kg/m2 for a given period."
   ]
  },
  {
   "attachments": {},
   "cell_type": "markdown",
   "metadata": {},
   "source": [
    "As we have now picked the necessary parameter for our analysis, we have to specify what timeperiod we wanna look at, which DMI-weather stations is relevant to include, and how to structure our DMI-dataset.\n",
    "\n",
    "We wanna look at the most recent full year, 2022. We specify our timeperiod to start at the first hour of the first day of 2022, and end at the first hour of the first day of 2023. \n",
    "\n",
    "DMI has a lot of weatherstations scattered across Denmark, The Faroe Islands and Greenland. These weather stations have different capabilities, and some measure the same as others - meaning there is a risk of having measurements for a given geographical location twice. We only wanna look at *Pluvio* stations in Denmark, as these measure precipitation, cover the entirety of Denmark and are unique (only one station pr. location). Therefore we sort our data to only include *Pluvio* station IDs. \n",
    "\n",
    "The *Pluvio* stations are located as depicted below:"
   ]
  },
  {
   "cell_type": "code",
   "execution_count": null,
   "metadata": {},
   "outputs": [],
   "source": [
    "# Open the image file\n",
    "img = Image.open(\"C:/Users/vikto/Documents/A Økonomi/8. Semester/IntroProg/DMI pic.png\")\n",
    "\n",
    "# Convert the image to a NumPy array\n",
    "img_array = plt.imread(\"C:/Users/vikto/Documents/A Økonomi/8. Semester/IntroProg/DMI pic.png\")\n",
    "\n",
    "# Show the image in a plot\n",
    "plt.imshow(img_array)\n",
    "plt.title('Pluvio stations in Denmark')\n",
    "plt.xticks([])\n",
    "plt.yticks([])\n",
    "plt.show()"
   ]
  },
  {
   "attachments": {},
   "cell_type": "markdown",
   "metadata": {},
   "source": [
    "**Man kan ikke se billedet når man kører koden... Du skal lige gemme billedet som en jpg fil i stedet, da den ikke vil læse png** - Altså det virker helt fjong for mig, så forstår ikke. KH VIK"
   ]
  },
  {
   "attachments": {},
   "cell_type": "markdown",
   "metadata": {},
   "source": [
    "We select the data we need for our analysis and create the dataframe:"
   ]
  },
  {
   "cell_type": "code",
   "execution_count": 4,
   "metadata": {},
   "outputs": [
    {
     "data": {
      "text/html": [
       "<div>\n",
       "<style scoped>\n",
       "    .dataframe tbody tr th:only-of-type {\n",
       "        vertical-align: middle;\n",
       "    }\n",
       "\n",
       "    .dataframe tbody tr th {\n",
       "        vertical-align: top;\n",
       "    }\n",
       "\n",
       "    .dataframe thead th {\n",
       "        text-align: right;\n",
       "    }\n",
       "</style>\n",
       "<table border=\"1\" class=\"dataframe\">\n",
       "  <thead>\n",
       "    <tr style=\"text-align: right;\">\n",
       "      <th>station</th>\n",
       "      <th>Time</th>\n",
       "      <th>05005</th>\n",
       "      <th>05009</th>\n",
       "      <th>05015</th>\n",
       "      <th>05031</th>\n",
       "      <th>05035</th>\n",
       "      <th>05042</th>\n",
       "      <th>05065</th>\n",
       "      <th>05070</th>\n",
       "      <th>05075</th>\n",
       "      <th>...</th>\n",
       "      <th>05545</th>\n",
       "      <th>05575</th>\n",
       "      <th>05735</th>\n",
       "      <th>05880</th>\n",
       "      <th>05889</th>\n",
       "      <th>05935</th>\n",
       "      <th>05945</th>\n",
       "      <th>05970</th>\n",
       "      <th>05986</th>\n",
       "      <th>05994</th>\n",
       "    </tr>\n",
       "  </thead>\n",
       "  <tbody>\n",
       "    <tr>\n",
       "      <th>0</th>\n",
       "      <td>2022-01-01 00:00:00+00:00</td>\n",
       "      <td>0.0</td>\n",
       "      <td>0.0</td>\n",
       "      <td>0.0</td>\n",
       "      <td>0.0</td>\n",
       "      <td>0.0</td>\n",
       "      <td>0.0</td>\n",
       "      <td>0.0</td>\n",
       "      <td>0.0</td>\n",
       "      <td>0.0</td>\n",
       "      <td>...</td>\n",
       "      <td>0.0</td>\n",
       "      <td>NaN</td>\n",
       "      <td>0.0</td>\n",
       "      <td>0.0</td>\n",
       "      <td>0.0</td>\n",
       "      <td>NaN</td>\n",
       "      <td>NaN</td>\n",
       "      <td>0.0</td>\n",
       "      <td>0.00</td>\n",
       "      <td>0.0</td>\n",
       "    </tr>\n",
       "    <tr>\n",
       "      <th>1</th>\n",
       "      <td>2022-01-01 01:00:00+00:00</td>\n",
       "      <td>0.0</td>\n",
       "      <td>0.0</td>\n",
       "      <td>0.0</td>\n",
       "      <td>0.0</td>\n",
       "      <td>0.0</td>\n",
       "      <td>0.0</td>\n",
       "      <td>0.0</td>\n",
       "      <td>0.0</td>\n",
       "      <td>0.0</td>\n",
       "      <td>...</td>\n",
       "      <td>0.0</td>\n",
       "      <td>NaN</td>\n",
       "      <td>0.0</td>\n",
       "      <td>0.0</td>\n",
       "      <td>0.0</td>\n",
       "      <td>NaN</td>\n",
       "      <td>NaN</td>\n",
       "      <td>0.0</td>\n",
       "      <td>0.08</td>\n",
       "      <td>0.0</td>\n",
       "    </tr>\n",
       "    <tr>\n",
       "      <th>2</th>\n",
       "      <td>2022-01-01 02:00:00+00:00</td>\n",
       "      <td>0.0</td>\n",
       "      <td>0.0</td>\n",
       "      <td>0.0</td>\n",
       "      <td>0.0</td>\n",
       "      <td>0.0</td>\n",
       "      <td>0.0</td>\n",
       "      <td>0.0</td>\n",
       "      <td>0.0</td>\n",
       "      <td>0.0</td>\n",
       "      <td>...</td>\n",
       "      <td>NaN</td>\n",
       "      <td>NaN</td>\n",
       "      <td>0.0</td>\n",
       "      <td>0.0</td>\n",
       "      <td>0.0</td>\n",
       "      <td>NaN</td>\n",
       "      <td>NaN</td>\n",
       "      <td>0.0</td>\n",
       "      <td>0.00</td>\n",
       "      <td>0.0</td>\n",
       "    </tr>\n",
       "    <tr>\n",
       "      <th>3</th>\n",
       "      <td>2022-01-01 03:00:00+00:00</td>\n",
       "      <td>0.0</td>\n",
       "      <td>0.0</td>\n",
       "      <td>0.0</td>\n",
       "      <td>0.0</td>\n",
       "      <td>0.0</td>\n",
       "      <td>0.0</td>\n",
       "      <td>0.0</td>\n",
       "      <td>0.0</td>\n",
       "      <td>0.0</td>\n",
       "      <td>...</td>\n",
       "      <td>NaN</td>\n",
       "      <td>NaN</td>\n",
       "      <td>0.0</td>\n",
       "      <td>0.0</td>\n",
       "      <td>0.0</td>\n",
       "      <td>NaN</td>\n",
       "      <td>NaN</td>\n",
       "      <td>0.0</td>\n",
       "      <td>0.00</td>\n",
       "      <td>0.0</td>\n",
       "    </tr>\n",
       "    <tr>\n",
       "      <th>4</th>\n",
       "      <td>2022-01-01 04:00:00+00:00</td>\n",
       "      <td>0.0</td>\n",
       "      <td>0.0</td>\n",
       "      <td>0.0</td>\n",
       "      <td>0.0</td>\n",
       "      <td>0.0</td>\n",
       "      <td>0.0</td>\n",
       "      <td>0.0</td>\n",
       "      <td>0.0</td>\n",
       "      <td>0.0</td>\n",
       "      <td>...</td>\n",
       "      <td>NaN</td>\n",
       "      <td>NaN</td>\n",
       "      <td>0.0</td>\n",
       "      <td>0.0</td>\n",
       "      <td>0.0</td>\n",
       "      <td>NaN</td>\n",
       "      <td>NaN</td>\n",
       "      <td>0.0</td>\n",
       "      <td>0.00</td>\n",
       "      <td>0.0</td>\n",
       "    </tr>\n",
       "  </tbody>\n",
       "</table>\n",
       "<p>5 rows × 69 columns</p>\n",
       "</div>"
      ],
      "text/plain": [
       "station                      Time  05005  05009  05015  05031  05035  05042  \\\n",
       "0       2022-01-01 00:00:00+00:00    0.0    0.0    0.0    0.0    0.0    0.0   \n",
       "1       2022-01-01 01:00:00+00:00    0.0    0.0    0.0    0.0    0.0    0.0   \n",
       "2       2022-01-01 02:00:00+00:00    0.0    0.0    0.0    0.0    0.0    0.0   \n",
       "3       2022-01-01 03:00:00+00:00    0.0    0.0    0.0    0.0    0.0    0.0   \n",
       "4       2022-01-01 04:00:00+00:00    0.0    0.0    0.0    0.0    0.0    0.0   \n",
       "\n",
       "station  05065  05070  05075  ...  05545  05575  05735  05880  05889  05935  \\\n",
       "0          0.0    0.0    0.0  ...    0.0    NaN    0.0    0.0    0.0    NaN   \n",
       "1          0.0    0.0    0.0  ...    0.0    NaN    0.0    0.0    0.0    NaN   \n",
       "2          0.0    0.0    0.0  ...    NaN    NaN    0.0    0.0    0.0    NaN   \n",
       "3          0.0    0.0    0.0  ...    NaN    NaN    0.0    0.0    0.0    NaN   \n",
       "4          0.0    0.0    0.0  ...    NaN    NaN    0.0    0.0    0.0    NaN   \n",
       "\n",
       "station  05945  05970  05986  05994  \n",
       "0          NaN    0.0   0.00    0.0  \n",
       "1          NaN    0.0   0.08    0.0  \n",
       "2          NaN    0.0   0.00    0.0  \n",
       "3          NaN    0.0   0.00    0.0  \n",
       "4          NaN    0.0   0.00    0.0  \n",
       "\n",
       "[5 rows x 69 columns]"
      ]
     },
     "execution_count": 4,
     "metadata": {},
     "output_type": "execute_result"
    }
   ],
   "source": [
    "# Specifying the relevant parameter for the analysis\n",
    "parameterId = ['precip_past1h']\n",
    "\n",
    "# Creating the dataframe\n",
    "df = dp.selecting_data_dmi(parameterId)\n",
    "df.head()"
   ]
  },
  {
   "attachments": {},
   "cell_type": "markdown",
   "metadata": {},
   "source": [
    "To simplify the data we calculate the average of precipitation across all selected *pluvio* weather stations and store this data."
   ]
  },
  {
   "cell_type": "code",
   "execution_count": 5,
   "metadata": {},
   "outputs": [
    {
     "data": {
      "text/html": [
       "<div>\n",
       "<style scoped>\n",
       "    .dataframe tbody tr th:only-of-type {\n",
       "        vertical-align: middle;\n",
       "    }\n",
       "\n",
       "    .dataframe tbody tr th {\n",
       "        vertical-align: top;\n",
       "    }\n",
       "\n",
       "    .dataframe thead th {\n",
       "        text-align: right;\n",
       "    }\n",
       "</style>\n",
       "<table border=\"1\" class=\"dataframe\">\n",
       "  <thead>\n",
       "    <tr style=\"text-align: right;\">\n",
       "      <th>station</th>\n",
       "      <th>Time</th>\n",
       "      <th>Date</th>\n",
       "      <th>Precip</th>\n",
       "    </tr>\n",
       "  </thead>\n",
       "  <tbody>\n",
       "    <tr>\n",
       "      <th>0</th>\n",
       "      <td>2022-01-01 00:00:00+00:00</td>\n",
       "      <td>2022-01-01</td>\n",
       "      <td>0.008364</td>\n",
       "    </tr>\n",
       "    <tr>\n",
       "      <th>1</th>\n",
       "      <td>2022-01-01 01:00:00+00:00</td>\n",
       "      <td>2022-01-01</td>\n",
       "      <td>0.034727</td>\n",
       "    </tr>\n",
       "    <tr>\n",
       "      <th>2</th>\n",
       "      <td>2022-01-01 02:00:00+00:00</td>\n",
       "      <td>2022-01-01</td>\n",
       "      <td>0.041296</td>\n",
       "    </tr>\n",
       "    <tr>\n",
       "      <th>3</th>\n",
       "      <td>2022-01-01 03:00:00+00:00</td>\n",
       "      <td>2022-01-01</td>\n",
       "      <td>0.015185</td>\n",
       "    </tr>\n",
       "    <tr>\n",
       "      <th>4</th>\n",
       "      <td>2022-01-01 04:00:00+00:00</td>\n",
       "      <td>2022-01-01</td>\n",
       "      <td>0.029630</td>\n",
       "    </tr>\n",
       "    <tr>\n",
       "      <th>...</th>\n",
       "      <td>...</td>\n",
       "      <td>...</td>\n",
       "      <td>...</td>\n",
       "    </tr>\n",
       "    <tr>\n",
       "      <th>8733</th>\n",
       "      <td>2022-12-31 19:00:00+00:00</td>\n",
       "      <td>2022-12-31</td>\n",
       "      <td>0.120656</td>\n",
       "    </tr>\n",
       "    <tr>\n",
       "      <th>8734</th>\n",
       "      <td>2022-12-31 20:00:00+00:00</td>\n",
       "      <td>2022-12-31</td>\n",
       "      <td>0.420820</td>\n",
       "    </tr>\n",
       "    <tr>\n",
       "      <th>8735</th>\n",
       "      <td>2022-12-31 21:00:00+00:00</td>\n",
       "      <td>2022-12-31</td>\n",
       "      <td>0.611967</td>\n",
       "    </tr>\n",
       "    <tr>\n",
       "      <th>8736</th>\n",
       "      <td>2022-12-31 22:00:00+00:00</td>\n",
       "      <td>2022-12-31</td>\n",
       "      <td>0.993770</td>\n",
       "    </tr>\n",
       "    <tr>\n",
       "      <th>8737</th>\n",
       "      <td>2022-12-31 23:00:00+00:00</td>\n",
       "      <td>2022-12-31</td>\n",
       "      <td>1.371475</td>\n",
       "    </tr>\n",
       "  </tbody>\n",
       "</table>\n",
       "<p>8738 rows × 3 columns</p>\n",
       "</div>"
      ],
      "text/plain": [
       "station                      Time        Date    Precip\n",
       "0       2022-01-01 00:00:00+00:00  2022-01-01  0.008364\n",
       "1       2022-01-01 01:00:00+00:00  2022-01-01  0.034727\n",
       "2       2022-01-01 02:00:00+00:00  2022-01-01  0.041296\n",
       "3       2022-01-01 03:00:00+00:00  2022-01-01  0.015185\n",
       "4       2022-01-01 04:00:00+00:00  2022-01-01  0.029630\n",
       "...                           ...         ...       ...\n",
       "8733    2022-12-31 19:00:00+00:00  2022-12-31  0.120656\n",
       "8734    2022-12-31 20:00:00+00:00  2022-12-31  0.420820\n",
       "8735    2022-12-31 21:00:00+00:00  2022-12-31  0.611967\n",
       "8736    2022-12-31 22:00:00+00:00  2022-12-31  0.993770\n",
       "8737    2022-12-31 23:00:00+00:00  2022-12-31  1.371475\n",
       "\n",
       "[8738 rows x 3 columns]"
      ]
     },
     "execution_count": 5,
     "metadata": {},
     "output_type": "execute_result"
    }
   ],
   "source": [
    "# We create a row-average of the observations across weather stations\n",
    "df['Precip'] = df.mean(axis=1, numeric_only = True)\n",
    "df['Date'] = df.Time.dt.date \n",
    "df2 = df[['Time', 'Date', 'Precip']] \n",
    "df2"
   ]
  },
  {
   "attachments": {},
   "cell_type": "markdown",
   "metadata": {},
   "source": [
    "With 8760 hours in a year we have 22 missing hours. We investigate which days causes the issue."
   ]
  },
  {
   "cell_type": "code",
   "execution_count": 6,
   "metadata": {},
   "outputs": [
    {
     "data": {
      "text/html": [
       "<div>\n",
       "<style scoped>\n",
       "    .dataframe tbody tr th:only-of-type {\n",
       "        vertical-align: middle;\n",
       "    }\n",
       "\n",
       "    .dataframe tbody tr th {\n",
       "        vertical-align: top;\n",
       "    }\n",
       "\n",
       "    .dataframe thead th {\n",
       "        text-align: right;\n",
       "    }\n",
       "</style>\n",
       "<table border=\"1\" class=\"dataframe\">\n",
       "  <thead>\n",
       "    <tr style=\"text-align: right;\">\n",
       "      <th></th>\n",
       "      <th>Time</th>\n",
       "    </tr>\n",
       "    <tr>\n",
       "      <th>Date</th>\n",
       "      <th></th>\n",
       "    </tr>\n",
       "  </thead>\n",
       "  <tbody>\n",
       "    <tr>\n",
       "      <th>2022-06-14</th>\n",
       "      <td>23</td>\n",
       "    </tr>\n",
       "    <tr>\n",
       "      <th>2022-06-15</th>\n",
       "      <td>21</td>\n",
       "    </tr>\n",
       "    <tr>\n",
       "      <th>2022-06-16</th>\n",
       "      <td>22</td>\n",
       "    </tr>\n",
       "    <tr>\n",
       "      <th>2022-06-17</th>\n",
       "      <td>22</td>\n",
       "    </tr>\n",
       "    <tr>\n",
       "      <th>2022-06-18</th>\n",
       "      <td>22</td>\n",
       "    </tr>\n",
       "    <tr>\n",
       "      <th>2022-06-19</th>\n",
       "      <td>19</td>\n",
       "    </tr>\n",
       "    <tr>\n",
       "      <th>2022-06-20</th>\n",
       "      <td>22</td>\n",
       "    </tr>\n",
       "    <tr>\n",
       "      <th>2022-06-21</th>\n",
       "      <td>21</td>\n",
       "    </tr>\n",
       "    <tr>\n",
       "      <th>2022-06-22</th>\n",
       "      <td>22</td>\n",
       "    </tr>\n",
       "  </tbody>\n",
       "</table>\n",
       "</div>"
      ],
      "text/plain": [
       "            Time\n",
       "Date            \n",
       "2022-06-14    23\n",
       "2022-06-15    21\n",
       "2022-06-16    22\n",
       "2022-06-17    22\n",
       "2022-06-18    22\n",
       "2022-06-19    19\n",
       "2022-06-20    22\n",
       "2022-06-21    21\n",
       "2022-06-22    22"
      ]
     },
     "execution_count": 6,
     "metadata": {},
     "output_type": "execute_result"
    }
   ],
   "source": [
    "# We check to see which days have missing hours\n",
    "check = df2.groupby(['Date'])['Time'].count()\n",
    "check = pd.DataFrame(check)\n",
    "check = check.loc[check['Time']!=24]\n",
    "check"
   ]
  },
  {
   "attachments": {},
   "cell_type": "markdown",
   "metadata": {},
   "source": [
    "To tackle this issue, and to make our precipitation data more easily comparable, we calculate the daily average of the precipitation across weather stations (stored as df2) and store this data as df3. Now we have a dataset that displays the average daily precipitation across Denmark. "
   ]
  },
  {
   "cell_type": "code",
   "execution_count": 7,
   "metadata": {},
   "outputs": [
    {
     "data": {
      "text/html": [
       "<div>\n",
       "<style scoped>\n",
       "    .dataframe tbody tr th:only-of-type {\n",
       "        vertical-align: middle;\n",
       "    }\n",
       "\n",
       "    .dataframe tbody tr th {\n",
       "        vertical-align: top;\n",
       "    }\n",
       "\n",
       "    .dataframe thead th {\n",
       "        text-align: right;\n",
       "    }\n",
       "</style>\n",
       "<table border=\"1\" class=\"dataframe\">\n",
       "  <thead>\n",
       "    <tr style=\"text-align: right;\">\n",
       "      <th>station</th>\n",
       "      <th>Date</th>\n",
       "      <th>Precip</th>\n",
       "    </tr>\n",
       "  </thead>\n",
       "  <tbody>\n",
       "    <tr>\n",
       "      <th>0</th>\n",
       "      <td>2022-01-01</td>\n",
       "      <td>0.170616</td>\n",
       "    </tr>\n",
       "    <tr>\n",
       "      <th>1</th>\n",
       "      <td>2022-01-02</td>\n",
       "      <td>0.186448</td>\n",
       "    </tr>\n",
       "    <tr>\n",
       "      <th>2</th>\n",
       "      <td>2022-01-03</td>\n",
       "      <td>0.158633</td>\n",
       "    </tr>\n",
       "    <tr>\n",
       "      <th>3</th>\n",
       "      <td>2022-01-04</td>\n",
       "      <td>0.106235</td>\n",
       "    </tr>\n",
       "    <tr>\n",
       "      <th>4</th>\n",
       "      <td>2022-01-05</td>\n",
       "      <td>0.121349</td>\n",
       "    </tr>\n",
       "    <tr>\n",
       "      <th>...</th>\n",
       "      <td>...</td>\n",
       "      <td>...</td>\n",
       "    </tr>\n",
       "    <tr>\n",
       "      <th>360</th>\n",
       "      <td>2022-12-27</td>\n",
       "      <td>0.099927</td>\n",
       "    </tr>\n",
       "    <tr>\n",
       "      <th>361</th>\n",
       "      <td>2022-12-28</td>\n",
       "      <td>0.568777</td>\n",
       "    </tr>\n",
       "    <tr>\n",
       "      <th>362</th>\n",
       "      <td>2022-12-29</td>\n",
       "      <td>0.214848</td>\n",
       "    </tr>\n",
       "    <tr>\n",
       "      <th>363</th>\n",
       "      <td>2022-12-30</td>\n",
       "      <td>0.117192</td>\n",
       "    </tr>\n",
       "    <tr>\n",
       "      <th>364</th>\n",
       "      <td>2022-12-31</td>\n",
       "      <td>0.249040</td>\n",
       "    </tr>\n",
       "  </tbody>\n",
       "</table>\n",
       "<p>365 rows × 2 columns</p>\n",
       "</div>"
      ],
      "text/plain": [
       "station       Date    Precip\n",
       "0       2022-01-01  0.170616\n",
       "1       2022-01-02  0.186448\n",
       "2       2022-01-03  0.158633\n",
       "3       2022-01-04  0.106235\n",
       "4       2022-01-05  0.121349\n",
       "..             ...       ...\n",
       "360     2022-12-27  0.099927\n",
       "361     2022-12-28  0.568777\n",
       "362     2022-12-29  0.214848\n",
       "363     2022-12-30  0.117192\n",
       "364     2022-12-31  0.249040\n",
       "\n",
       "[365 rows x 2 columns]"
      ]
     },
     "execution_count": 7,
     "metadata": {},
     "output_type": "execute_result"
    }
   ],
   "source": [
    "df3 = df2.groupby('Date').mean(numeric_only=True)\n",
    "df3.reset_index(inplace=True)\n",
    "df3['Date'] =pd.to_datetime(df3['Date'])\n",
    "df3"
   ]
  },
  {
   "attachments": {},
   "cell_type": "markdown",
   "metadata": {},
   "source": [
    "**We import and clean data from Yahoo Finance**"
   ]
  },
  {
   "cell_type": "code",
   "execution_count": 8,
   "metadata": {},
   "outputs": [
    {
     "data": {
      "text/html": [
       "<div>\n",
       "<style scoped>\n",
       "    .dataframe tbody tr th:only-of-type {\n",
       "        vertical-align: middle;\n",
       "    }\n",
       "\n",
       "    .dataframe tbody tr th {\n",
       "        vertical-align: top;\n",
       "    }\n",
       "\n",
       "    .dataframe thead th {\n",
       "        text-align: right;\n",
       "    }\n",
       "</style>\n",
       "<table border=\"1\" class=\"dataframe\">\n",
       "  <thead>\n",
       "    <tr style=\"text-align: right;\">\n",
       "      <th></th>\n",
       "      <th>Date</th>\n",
       "      <th>Close</th>\n",
       "    </tr>\n",
       "  </thead>\n",
       "  <tbody>\n",
       "    <tr>\n",
       "      <th>0</th>\n",
       "      <td>2022-01-03</td>\n",
       "      <td>1970.949951</td>\n",
       "    </tr>\n",
       "    <tr>\n",
       "      <th>1</th>\n",
       "      <td>2022-01-04</td>\n",
       "      <td>1952.810059</td>\n",
       "    </tr>\n",
       "    <tr>\n",
       "      <th>2</th>\n",
       "      <td>2022-01-05</td>\n",
       "      <td>1947.630005</td>\n",
       "    </tr>\n",
       "    <tr>\n",
       "      <th>3</th>\n",
       "      <td>2022-01-07</td>\n",
       "      <td>1867.989990</td>\n",
       "    </tr>\n",
       "    <tr>\n",
       "      <th>4</th>\n",
       "      <td>2022-01-10</td>\n",
       "      <td>1825.510010</td>\n",
       "    </tr>\n",
       "  </tbody>\n",
       "</table>\n",
       "</div>"
      ],
      "text/plain": [
       "        Date        Close\n",
       "0 2022-01-03  1970.949951\n",
       "1 2022-01-04  1952.810059\n",
       "2 2022-01-05  1947.630005\n",
       "3 2022-01-07  1867.989990\n",
       "4 2022-01-10  1825.510010"
      ]
     },
     "execution_count": 8,
     "metadata": {},
     "output_type": "execute_result"
    }
   ],
   "source": [
    "# Setting the desired timeframe\n",
    "from_time='2022-01-01'\n",
    "to_time='2023-01-01'\n",
    "\n",
    "# Importing dateframe\n",
    "OMXC25 = dp.import_data_yahoo(from_time,to_time)\n",
    "OMXC25.head()"
   ]
  },
  {
   "attachments": {},
   "cell_type": "markdown",
   "metadata": {},
   "source": [
    "As can be seen from the table above, there are 250 observations/days where a closing price of OMX 25 have been noted by Yahoo Finance. This is due to the fact, that a closing price only occurs when the market is open. There are 260 weekdays in a year, and the 10 \"missing\" days are holidays.  "
   ]
  },
  {
   "attachments": {},
   "cell_type": "markdown",
   "metadata": {},
   "source": [
    "## Exploring each data set"
   ]
  },
  {
   "attachments": {},
   "cell_type": "markdown",
   "metadata": {},
   "source": [
    "Illustrating the average precipitation in 2022 and the closing price of OMXC25 in 2022:"
   ]
  },
  {
   "cell_type": "code",
   "execution_count": 9,
   "metadata": {},
   "outputs": [
    {
     "data": {
      "text/plain": [
       "<Axes: title={'center': 'Closing value of the price OMXC25'}, xlabel='Date', ylabel='Closing price'>"
      ]
     },
     "execution_count": 9,
     "metadata": {},
     "output_type": "execute_result"
    },
    {
     "data": {
      "image/png": "[encoded data removed]",
      "text/plain": [
       "<Figure size 640x480 with 1 Axes>"
      ]
     },
     "metadata": {},
     "output_type": "display_data"
    },
    {
     "data": {
      "image/png": "[encoded data removed]",
      "text/plain": [
       "<Figure size 640x480 with 1 Axes>"
      ]
     },
     "metadata": {},
     "output_type": "display_data"
    }
   ],
   "source": [
    "dp.explore_data(df3['Date'],\n",
    "               df3['Precip'],\n",
    "               'Average precipation in 2022',\n",
    "               'Date','Precipation',0)\n",
    "\n",
    "dp.explore_data(OMXC25['Date'],\n",
    "               OMXC25['Close'],\n",
    "               'Closing value of the price OMXC25',\n",
    "               'Date','Closing price',1400)"
   ]
  },
  {
   "attachments": {},
   "cell_type": "markdown",
   "metadata": {},
   "source": [
    "Overall we can see that there are large fluctuations in both the average percipation and the closing price of OMXC25, however the fluctuations do not seem to be extremely correlated. To investigate further whether there is a correlation between the two, we merge the dataframes and analyze the data."
   ]
  },
  {
   "cell_type": "markdown",
   "metadata": {},
   "source": [
    "# Merge data sets"
   ]
  },
  {
   "attachments": {},
   "cell_type": "markdown",
   "metadata": {},
   "source": [
    "We combine our loaded data sets from DMI and Yahoo Finance."
   ]
  },
  {
   "cell_type": "code",
   "execution_count": 10,
   "metadata": {},
   "outputs": [
    {
     "data": {
      "text/html": [
       "<div>\n",
       "<style scoped>\n",
       "    .dataframe tbody tr th:only-of-type {\n",
       "        vertical-align: middle;\n",
       "    }\n",
       "\n",
       "    .dataframe tbody tr th {\n",
       "        vertical-align: top;\n",
       "    }\n",
       "\n",
       "    .dataframe thead th {\n",
       "        text-align: right;\n",
       "    }\n",
       "</style>\n",
       "<table border=\"1\" class=\"dataframe\">\n",
       "  <thead>\n",
       "    <tr style=\"text-align: right;\">\n",
       "      <th></th>\n",
       "      <th>Date</th>\n",
       "      <th>Close</th>\n",
       "      <th>Precip</th>\n",
       "    </tr>\n",
       "  </thead>\n",
       "  <tbody>\n",
       "    <tr>\n",
       "      <th>0</th>\n",
       "      <td>2022-01-03</td>\n",
       "      <td>1970.949951</td>\n",
       "      <td>0.158633</td>\n",
       "    </tr>\n",
       "    <tr>\n",
       "      <th>1</th>\n",
       "      <td>2022-01-04</td>\n",
       "      <td>1952.810059</td>\n",
       "      <td>0.106235</td>\n",
       "    </tr>\n",
       "    <tr>\n",
       "      <th>2</th>\n",
       "      <td>2022-01-05</td>\n",
       "      <td>1947.630005</td>\n",
       "      <td>0.121349</td>\n",
       "    </tr>\n",
       "    <tr>\n",
       "      <th>3</th>\n",
       "      <td>2022-01-07</td>\n",
       "      <td>1867.989990</td>\n",
       "      <td>0.174461</td>\n",
       "    </tr>\n",
       "    <tr>\n",
       "      <th>4</th>\n",
       "      <td>2022-01-10</td>\n",
       "      <td>1825.510010</td>\n",
       "      <td>0.002900</td>\n",
       "    </tr>\n",
       "    <tr>\n",
       "      <th>...</th>\n",
       "      <td>...</td>\n",
       "      <td>...</td>\n",
       "      <td>...</td>\n",
       "    </tr>\n",
       "    <tr>\n",
       "      <th>245</th>\n",
       "      <td>2022-12-23</td>\n",
       "      <td>1695.199951</td>\n",
       "      <td>0.002511</td>\n",
       "    </tr>\n",
       "    <tr>\n",
       "      <th>246</th>\n",
       "      <td>2022-12-27</td>\n",
       "      <td>1701.630005</td>\n",
       "      <td>0.099927</td>\n",
       "    </tr>\n",
       "    <tr>\n",
       "      <th>247</th>\n",
       "      <td>2022-12-28</td>\n",
       "      <td>1695.209961</td>\n",
       "      <td>0.568777</td>\n",
       "    </tr>\n",
       "    <tr>\n",
       "      <th>248</th>\n",
       "      <td>2022-12-29</td>\n",
       "      <td>1712.839966</td>\n",
       "      <td>0.214848</td>\n",
       "    </tr>\n",
       "    <tr>\n",
       "      <th>249</th>\n",
       "      <td>2022-12-30</td>\n",
       "      <td>1700.560059</td>\n",
       "      <td>0.117192</td>\n",
       "    </tr>\n",
       "  </tbody>\n",
       "</table>\n",
       "<p>250 rows × 3 columns</p>\n",
       "</div>"
      ],
      "text/plain": [
       "          Date        Close    Precip\n",
       "0   2022-01-03  1970.949951  0.158633\n",
       "1   2022-01-04  1952.810059  0.106235\n",
       "2   2022-01-05  1947.630005  0.121349\n",
       "3   2022-01-07  1867.989990  0.174461\n",
       "4   2022-01-10  1825.510010  0.002900\n",
       "..         ...          ...       ...\n",
       "245 2022-12-23  1695.199951  0.002511\n",
       "246 2022-12-27  1701.630005  0.099927\n",
       "247 2022-12-28  1695.209961  0.568777\n",
       "248 2022-12-29  1712.839966  0.214848\n",
       "249 2022-12-30  1700.560059  0.117192\n",
       "\n",
       "[250 rows x 3 columns]"
      ]
     },
     "execution_count": 10,
     "metadata": {},
     "output_type": "execute_result"
    }
   ],
   "source": [
    "# Merge data\n",
    "precip_stock = pd.merge(OMXC25, df3, on='Date', how='left')\n",
    "precip_stock2 = precip_stock[['Date', 'Close', 'Precip']]\n",
    "precip_stock2\n"
   ]
  },
  {
   "attachments": {},
   "cell_type": "markdown",
   "metadata": {},
   "source": [
    "We here use the left-join method to only keep dates where there have been registered a closing price for the stock. Therefore we want to drop all the values for average precipation on weekends and holidays. This is accomplished with this method for merging."
   ]
  },
  {
   "cell_type": "markdown",
   "metadata": {},
   "source": [
    "# Analysis"
   ]
  },
  {
   "attachments": {},
   "cell_type": "markdown",
   "metadata": {},
   "source": [
    "As we are mostly interested in the relative development in the stock price rather than the actual price, we calculate the pct. change from day-to-day to illustrate daily fluctuations. "
   ]
  },
  {
   "cell_type": "code",
   "execution_count": 11,
   "metadata": {},
   "outputs": [
    {
     "data": {
      "text/html": [
       "<div>\n",
       "<style scoped>\n",
       "    .dataframe tbody tr th:only-of-type {\n",
       "        vertical-align: middle;\n",
       "    }\n",
       "\n",
       "    .dataframe tbody tr th {\n",
       "        vertical-align: top;\n",
       "    }\n",
       "\n",
       "    .dataframe thead th {\n",
       "        text-align: right;\n",
       "    }\n",
       "</style>\n",
       "<table border=\"1\" class=\"dataframe\">\n",
       "  <thead>\n",
       "    <tr style=\"text-align: right;\">\n",
       "      <th></th>\n",
       "      <th>Date</th>\n",
       "      <th>Close</th>\n",
       "      <th>Precip</th>\n",
       "      <th>Change_in_stock</th>\n",
       "    </tr>\n",
       "  </thead>\n",
       "  <tbody>\n",
       "    <tr>\n",
       "      <th>0</th>\n",
       "      <td>2022-01-03</td>\n",
       "      <td>1970.949951</td>\n",
       "      <td>0.158633</td>\n",
       "      <td>NaN</td>\n",
       "    </tr>\n",
       "    <tr>\n",
       "      <th>1</th>\n",
       "      <td>2022-01-04</td>\n",
       "      <td>1952.810059</td>\n",
       "      <td>0.106235</td>\n",
       "      <td>-0.920363</td>\n",
       "    </tr>\n",
       "    <tr>\n",
       "      <th>2</th>\n",
       "      <td>2022-01-05</td>\n",
       "      <td>1947.630005</td>\n",
       "      <td>0.121349</td>\n",
       "      <td>-0.265262</td>\n",
       "    </tr>\n",
       "    <tr>\n",
       "      <th>3</th>\n",
       "      <td>2022-01-07</td>\n",
       "      <td>1867.989990</td>\n",
       "      <td>0.174461</td>\n",
       "      <td>-4.089073</td>\n",
       "    </tr>\n",
       "    <tr>\n",
       "      <th>4</th>\n",
       "      <td>2022-01-10</td>\n",
       "      <td>1825.510010</td>\n",
       "      <td>0.002900</td>\n",
       "      <td>-2.274101</td>\n",
       "    </tr>\n",
       "  </tbody>\n",
       "</table>\n",
       "</div>"
      ],
      "text/plain": [
       "        Date        Close    Precip  Change_in_stock\n",
       "0 2022-01-03  1970.949951  0.158633              NaN\n",
       "1 2022-01-04  1952.810059  0.106235        -0.920363\n",
       "2 2022-01-05  1947.630005  0.121349        -0.265262\n",
       "3 2022-01-07  1867.989990  0.174461        -4.089073\n",
       "4 2022-01-10  1825.510010  0.002900        -2.274101"
      ]
     },
     "execution_count": 11,
     "metadata": {},
     "output_type": "execute_result"
    }
   ],
   "source": [
    "# We calculate the pct. change from day-to-day on the closing price of OMXC25\n",
    "precip_stock2['Change_in_stock'] = ((precip_stock2['Close'] / precip_stock2['Close'].shift(1) - 1)* 100)\n",
    "precip_stock2.head()"
   ]
  },
  {
   "attachments": {},
   "cell_type": "markdown",
   "metadata": {},
   "source": [
    "We explore the merged data set to compare within the different months if we can se a correlation. This we do by firstly creating a variable for what month the observation belongs to, and then we plot interactively to study the months individually."
   ]
  },
  {
   "cell_type": "code",
   "execution_count": 12,
   "metadata": {},
   "outputs": [],
   "source": [
    "precip_stock3 = precip_stock2.copy()\n",
    "precip_stock3['Month'] = precip_stock3.Date.dt.month "
   ]
  },
  {
   "cell_type": "code",
   "execution_count": 13,
   "metadata": {},
   "outputs": [
    {
     "data": {
      "application/vnd.jupyter.widget-view+json": {
       "model_id": "2cd0f119f2a44ac5a5294f0efbc90ccd",
       "version_major": 2,
       "version_minor": 0
      },
      "text/plain": [
       "interactive(children=(Dropdown(description='Month', options=(1, 2, 3, 4, 5, 6, 7, 8, 9, 10, 11, 12), value=1),…"
      ]
     },
     "metadata": {},
     "output_type": "display_data"
    }
   ],
   "source": [
    "# Making an interactive figure\n",
    "def interactive_figure(Date, Month, Change_in_stock, Precip):\n",
    "    \n",
    "    filtered_data = precip_stock3[precip_stock3['Month']==Month]\n",
    "\n",
    "    fig = plt.figure(figsize=(10,4))\n",
    "\n",
    "    ax_left = fig.add_subplot(1,2,1)\n",
    "    ax_left.set_title('Precipitation')\n",
    "    ax_left.grid(True)\n",
    "    ax_left.bar(filtered_data['Date'],filtered_data['Precip'])\n",
    "    ax_left.set_xlabel('Date')\n",
    "    ax_left.set_ylabel('mm')\n",
    "    xticks = ax_left.get_xticks()\n",
    "    ax_left.set_xticks(xticks[::len(xticks) // 4]) # set new tick positions\n",
    "    ax_left.tick_params(axis='x', rotation=30) # set tick rotation\n",
    "\n",
    "    ax_right = fig.add_subplot(1,2,2)\n",
    "    ax_right.set_title('OMXC25')\n",
    "    ax_right.grid(True)\n",
    "    ax_right.bar(filtered_data['Date'],filtered_data['Change_in_stock'])\n",
    "    ax_right.set_xlabel('Date')\n",
    "    ax_right.set_ylabel('Share price')\n",
    "    xticks2 = ax_right.get_xticks()\n",
    "    ax_right.set_xticks(xticks2[::len(xticks2) // 4]) # set new tick positions\n",
    "    ax_right.tick_params(axis='x', rotation=30) # set tick rotation\n",
    "\n",
    "    plt.show()\n",
    "\n",
    "widgets.interact(interactive_figure,\n",
    "    Date=widgets.fixed(precip_stock3['Date']),\n",
    "    Month=widgets.Dropdown(description=\"Month\", options=precip_stock3.Month.unique(), value=1),\n",
    "    Change_in_stock=widgets.fixed(precip_stock3['Change_in_stock']),\n",
    "    Precip=widgets.fixed(precip_stock3['Precip'])\n",
    ");"
   ]
  },
  {
   "attachments": {},
   "cell_type": "markdown",
   "metadata": {},
   "source": [
    "The interactive plot makes it possible to zoom in on one specific month and see how the share price of OMX C25 and the amount of precipitation differs from day to day in each month. \n",
    "\n",
    "However, when investigating the months we still don't see a strong correlation between precipation and changes in the stock prices."
   ]
  },
  {
   "attachments": {},
   "cell_type": "markdown",
   "metadata": {},
   "source": [
    "As a way to more specifically see if there is a connection between the two variables, we wanna look at the days where the stock price fell/rose the most. Therefore, we utilize python to pick out the 10 days which saw the highest pct. change aswell as the 10 days with the biggest decrease. Our hypothesis is, that the amount of rainfall will be low, when the pct. change in stock is high and vice versa. \n",
    "\n",
    "We wanna compare whether the days with the largest increase in stock prices are coinciding with days where there was more rain than usual. Therefore we calculate the average precipation in 2022."
   ]
  },
  {
   "cell_type": "code",
   "execution_count": 14,
   "metadata": {},
   "outputs": [],
   "source": [
    "precip_stock3['Average precip'] = precip_stock3['Precip'].mean(numeric_only=True)\n",
    "precip_stock3['Precip - average'] = (precip_stock3['Precip'] - precip_stock3['Average precip'])\n",
    "\n",
    "# 10 days with the highest increase in stock price\n",
    "highest = precip_stock2.nlargest(10,'Change_in_stock') \n",
    "\n",
    "# 10 days with the largest decrease in stock price \n",
    "lowest = precip_stock2.nsmallest(10, 'Change_in_stock')"
   ]
  },
  {
   "attachments": {},
   "cell_type": "markdown",
   "metadata": {},
   "source": [
    "We investigate whether days with high increases in the stock price coincide with days with lower than average rain:"
   ]
  },
  {
   "cell_type": "code",
   "execution_count": 15,
   "metadata": {},
   "outputs": [
    {
     "data": {
      "text/html": [
       "<div>\n",
       "<style scoped>\n",
       "    .dataframe tbody tr th:only-of-type {\n",
       "        vertical-align: middle;\n",
       "    }\n",
       "\n",
       "    .dataframe tbody tr th {\n",
       "        vertical-align: top;\n",
       "    }\n",
       "\n",
       "    .dataframe thead th {\n",
       "        text-align: right;\n",
       "    }\n",
       "</style>\n",
       "<table border=\"1\" class=\"dataframe\">\n",
       "  <thead>\n",
       "    <tr style=\"text-align: right;\">\n",
       "      <th></th>\n",
       "      <th>Date</th>\n",
       "      <th>Close</th>\n",
       "      <th>Precip</th>\n",
       "      <th>Change_in_stock</th>\n",
       "    </tr>\n",
       "  </thead>\n",
       "  <tbody>\n",
       "    <tr>\n",
       "      <th>116</th>\n",
       "      <td>2022-06-27</td>\n",
       "      <td>1627.569946</td>\n",
       "      <td>0.873732</td>\n",
       "      <td>4.669573</td>\n",
       "    </tr>\n",
       "    <tr>\n",
       "      <th>98</th>\n",
       "      <td>2022-05-30</td>\n",
       "      <td>1702.550049</td>\n",
       "      <td>0.066899</td>\n",
       "      <td>4.050041</td>\n",
       "    </tr>\n",
       "    <tr>\n",
       "      <th>26</th>\n",
       "      <td>2022-02-09</td>\n",
       "      <td>1765.050049</td>\n",
       "      <td>0.074717</td>\n",
       "      <td>3.896146</td>\n",
       "    </tr>\n",
       "    <tr>\n",
       "      <th>214</th>\n",
       "      <td>2022-11-10</td>\n",
       "      <td>1689.650024</td>\n",
       "      <td>0.039105</td>\n",
       "      <td>3.818742</td>\n",
       "    </tr>\n",
       "    <tr>\n",
       "      <th>38</th>\n",
       "      <td>2022-02-25</td>\n",
       "      <td>1713.150024</td>\n",
       "      <td>0.089489</td>\n",
       "      <td>3.369937</td>\n",
       "    </tr>\n",
       "    <tr>\n",
       "      <th>39</th>\n",
       "      <td>2022-02-28</td>\n",
       "      <td>1764.810059</td>\n",
       "      <td>0.001019</td>\n",
       "      <td>3.015500</td>\n",
       "    </tr>\n",
       "    <tr>\n",
       "      <th>139</th>\n",
       "      <td>2022-07-28</td>\n",
       "      <td>1743.479980</td>\n",
       "      <td>0.001817</td>\n",
       "      <td>2.912998</td>\n",
       "    </tr>\n",
       "    <tr>\n",
       "      <th>30</th>\n",
       "      <td>2022-02-15</td>\n",
       "      <td>1742.140015</td>\n",
       "      <td>0.210196</td>\n",
       "      <td>2.910443</td>\n",
       "    </tr>\n",
       "    <tr>\n",
       "      <th>187</th>\n",
       "      <td>2022-10-04</td>\n",
       "      <td>1503.920044</td>\n",
       "      <td>0.006535</td>\n",
       "      <td>2.907426</td>\n",
       "    </tr>\n",
       "    <tr>\n",
       "      <th>94</th>\n",
       "      <td>2022-05-20</td>\n",
       "      <td>1653.959961</td>\n",
       "      <td>0.095344</td>\n",
       "      <td>2.789811</td>\n",
       "    </tr>\n",
       "  </tbody>\n",
       "</table>\n",
       "</div>"
      ],
      "text/plain": [
       "          Date        Close    Precip  Change_in_stock\n",
       "116 2022-06-27  1627.569946  0.873732         4.669573\n",
       "98  2022-05-30  1702.550049  0.066899         4.050041\n",
       "26  2022-02-09  1765.050049  0.074717         3.896146\n",
       "214 2022-11-10  1689.650024  0.039105         3.818742\n",
       "38  2022-02-25  1713.150024  0.089489         3.369937\n",
       "39  2022-02-28  1764.810059  0.001019         3.015500\n",
       "139 2022-07-28  1743.479980  0.001817         2.912998\n",
       "30  2022-02-15  1742.140015  0.210196         2.910443\n",
       "187 2022-10-04  1503.920044  0.006535         2.907426\n",
       "94  2022-05-20  1653.959961  0.095344         2.789811"
      ]
     },
     "execution_count": 15,
     "metadata": {},
     "output_type": "execute_result"
    }
   ],
   "source": [
    "highest"
   ]
  },
  {
   "attachments": {},
   "cell_type": "markdown",
   "metadata": {},
   "source": [
    "We see that 6 of the 10 observations have below average precipation, so it does somewhat support the hypotesis, but not to a large degree.\n",
    "\n",
    "We do the same for the 10 days with largest decrease in the stock price:"
   ]
  },
  {
   "cell_type": "code",
   "execution_count": 16,
   "metadata": {},
   "outputs": [
    {
     "data": {
      "text/html": [
       "<div>\n",
       "<style scoped>\n",
       "    .dataframe tbody tr th:only-of-type {\n",
       "        vertical-align: middle;\n",
       "    }\n",
       "\n",
       "    .dataframe tbody tr th {\n",
       "        vertical-align: top;\n",
       "    }\n",
       "\n",
       "    .dataframe thead th {\n",
       "        text-align: right;\n",
       "    }\n",
       "</style>\n",
       "<table border=\"1\" class=\"dataframe\">\n",
       "  <thead>\n",
       "    <tr style=\"text-align: right;\">\n",
       "      <th></th>\n",
       "      <th>Date</th>\n",
       "      <th>Close</th>\n",
       "      <th>Precip</th>\n",
       "      <th>Change_in_stock</th>\n",
       "    </tr>\n",
       "  </thead>\n",
       "  <tbody>\n",
       "    <tr>\n",
       "      <th>86</th>\n",
       "      <td>2022-05-09</td>\n",
       "      <td>1579.150024</td>\n",
       "      <td>0.018073</td>\n",
       "      <td>-5.015248</td>\n",
       "    </tr>\n",
       "    <tr>\n",
       "      <th>3</th>\n",
       "      <td>2022-01-07</td>\n",
       "      <td>1867.989990</td>\n",
       "      <td>0.174461</td>\n",
       "      <td>-4.089073</td>\n",
       "    </tr>\n",
       "    <tr>\n",
       "      <th>110</th>\n",
       "      <td>2022-06-16</td>\n",
       "      <td>1514.329956</td>\n",
       "      <td>0.000181</td>\n",
       "      <td>-3.490537</td>\n",
       "    </tr>\n",
       "    <tr>\n",
       "      <th>14</th>\n",
       "      <td>2022-01-24</td>\n",
       "      <td>1719.089966</td>\n",
       "      <td>0.002116</td>\n",
       "      <td>-3.450661</td>\n",
       "    </tr>\n",
       "    <tr>\n",
       "      <th>85</th>\n",
       "      <td>2022-05-06</td>\n",
       "      <td>1662.530029</td>\n",
       "      <td>0.001922</td>\n",
       "      <td>-3.391830</td>\n",
       "    </tr>\n",
       "    <tr>\n",
       "      <th>164</th>\n",
       "      <td>2022-09-01</td>\n",
       "      <td>1598.030029</td>\n",
       "      <td>0.003558</td>\n",
       "      <td>-3.304995</td>\n",
       "    </tr>\n",
       "    <tr>\n",
       "      <th>184</th>\n",
       "      <td>2022-09-29</td>\n",
       "      <td>1419.339966</td>\n",
       "      <td>0.197864</td>\n",
       "      <td>-2.873409</td>\n",
       "    </tr>\n",
       "    <tr>\n",
       "      <th>13</th>\n",
       "      <td>2022-01-21</td>\n",
       "      <td>1780.530029</td>\n",
       "      <td>0.023261</td>\n",
       "      <td>-2.766502</td>\n",
       "    </tr>\n",
       "    <tr>\n",
       "      <th>22</th>\n",
       "      <td>2022-02-03</td>\n",
       "      <td>1768.459961</td>\n",
       "      <td>0.322891</td>\n",
       "      <td>-2.760278</td>\n",
       "    </tr>\n",
       "    <tr>\n",
       "      <th>179</th>\n",
       "      <td>2022-09-22</td>\n",
       "      <td>1483.270020</td>\n",
       "      <td>0.003168</td>\n",
       "      <td>-2.651494</td>\n",
       "    </tr>\n",
       "  </tbody>\n",
       "</table>\n",
       "</div>"
      ],
      "text/plain": [
       "          Date        Close    Precip  Change_in_stock\n",
       "86  2022-05-09  1579.150024  0.018073        -5.015248\n",
       "3   2022-01-07  1867.989990  0.174461        -4.089073\n",
       "110 2022-06-16  1514.329956  0.000181        -3.490537\n",
       "14  2022-01-24  1719.089966  0.002116        -3.450661\n",
       "85  2022-05-06  1662.530029  0.001922        -3.391830\n",
       "164 2022-09-01  1598.030029  0.003558        -3.304995\n",
       "184 2022-09-29  1419.339966  0.197864        -2.873409\n",
       "13  2022-01-21  1780.530029  0.023261        -2.766502\n",
       "22  2022-02-03  1768.459961  0.322891        -2.760278\n",
       "179 2022-09-22  1483.270020  0.003168        -2.651494"
      ]
     },
     "execution_count": 16,
     "metadata": {},
     "output_type": "execute_result"
    }
   ],
   "source": [
    "lowest"
   ]
  },
  {
   "attachments": {},
   "cell_type": "markdown",
   "metadata": {},
   "source": [
    "Here we see that only 3 out of 10 oberservations have above average precipation when there is a large fall in the stock price. So overall we do not see a large correlation between precipation and changes in the stock price."
   ]
  },
  {
   "attachments": {},
   "cell_type": "markdown",
   "metadata": {},
   "source": [
    "Since there is not really any conclusive evidence in the above analysis, we now want to check if there is a correlation between the share price of the OMXC25 and the precipitation in 2022 for the entire dataframe. "
   ]
  },
  {
   "cell_type": "code",
   "execution_count": 17,
   "metadata": {},
   "outputs": [
    {
     "name": "stdout",
     "output_type": "stream",
     "text": [
      "Correlation coefficient: 0.0472713446534598\n",
      "p-value: 0.457729227154746\n"
     ]
    }
   ],
   "source": [
    "# We drop the first row (not value for change in stock)\n",
    "precip_stock4 = precip_stock2.iloc[1:]\n",
    "\n",
    "dp.correlation(precip_stock4)"
   ]
  },
  {
   "attachments": {},
   "cell_type": "markdown",
   "metadata": {},
   "source": [
    "The coefficient shows a very weak positive correlation between the precipitation level and the changes in the OMXC25-index. We can also see this by plotting the observations:"
   ]
  },
  {
   "cell_type": "code",
   "execution_count": 18,
   "metadata": {},
   "outputs": [
    {
     "data": {
      "image/png": "[encoded data removed]",
      "text/plain": [
       "<Figure size 640x480 with 1 Axes>"
      ]
     },
     "metadata": {},
     "output_type": "display_data"
    }
   ],
   "source": [
    "# a. create the figure\n",
    "fig = plt.figure()\n",
    "\n",
    "# b. plot\n",
    "ax = fig.add_subplot(1,1,1)\n",
    "\n",
    "ax.scatter(precip_stock4['Precip'],precip_stock4['Change_in_stock'])\n",
    "\n",
    "ax.set_title('Scatterplot for precipation and change in stock price')\n",
    "ax.set_xlabel('Precipation')\n",
    "ax.set_ylabel('Change in stock price');"
   ]
  },
  {
   "attachments": {},
   "cell_type": "markdown",
   "metadata": {},
   "source": [
    "Overall the scatterplot aboves exhibits a very low correlation between the two variables."
   ]
  },
  {
   "cell_type": "markdown",
   "metadata": {},
   "source": [
    "# Conclusion"
   ]
  },
  {
   "attachments": {},
   "cell_type": "markdown",
   "metadata": {},
   "source": [
    "In this assignment we look at the precipitation level in Denmark in 2022 along with the OMXC25 index. We found that there was slim to no correlation between the variables meaning that the weather most likely does not affect the changes in share prices of the OMXC25. \n",
    "\n",
    "We come to this conclusion by using descriptive statistics and simple calculations. To investigate a possible correlation between stock prices and the weather satisfactionary, you would have to use much broader methods. The topic have already been analyzed by other economists, who take a look at the stock exchange in New York City. We refer to:\n",
    "\n",
    "*Goetzmann, William N., and Ning Zhu. \"Rain or shine: where is the weather effect?.\" European Financial Management 11.5 (2005): 559-578.*\n",
    "\n",
    "*Saunders, Edward M. \"Stock prices and Wall Street weather.\" The American Economic Review 83.5 (1993): 1337-1345.*"
   ]
  },
  {
   "attachments": {},
   "cell_type": "markdown",
   "metadata": {},
   "source": [
    "**Tænker ikke, at det skal stå som det gør, det med reference til andre økonomers arb, men tænker det er meget nice at nævne resultaterne fra andre måske? - den øverste mener at der ikke rigtig er, og den nederste mener der er ish.** - Hvis i har god ide til omskrivning, så fyr løs - ellers skal jeg nok kigge igen! TEX"
   ]
  },
  {
   "attachments": {},
   "cell_type": "markdown",
   "metadata": {},
   "source": [
    "**VI bruger hasbi som tester**"
   ]
  },
  {
   "cell_type": "code",
   "execution_count": 19,
   "metadata": {},
   "outputs": [
    {
     "ename": "FileNotFoundError",
     "evalue": "[Errno 2] No such file or directory: 'C:/Users/vikto/Documents/A Økonomi/8. Semester/IntroProg/16264514660383.jpg'",
     "output_type": "error",
     "traceback": [
      "\u001b[0;31m---------------------------------------------------------------------------\u001b[0m",
      "\u001b[0;31mFileNotFoundError\u001b[0m                         Traceback (most recent call last)",
      "Cell \u001b[0;32mIn[19], line 2\u001b[0m\n\u001b[1;32m      1\u001b[0m \u001b[39m# Open the image file\u001b[39;00m\n\u001b[0;32m----> 2\u001b[0m img \u001b[39m=\u001b[39m Image\u001b[39m.\u001b[39;49mopen(\u001b[39m\"\u001b[39;49m\u001b[39mC:/Users/vikto/Documents/A Økonomi/8. Semester/IntroProg/16264514660383.jpg\u001b[39;49m\u001b[39m\"\u001b[39;49m)\n\u001b[1;32m      4\u001b[0m \u001b[39m# Convert the image to a NumPy array\u001b[39;00m\n\u001b[1;32m      5\u001b[0m img_array \u001b[39m=\u001b[39m plt\u001b[39m.\u001b[39mimread(\u001b[39m\"\u001b[39m\u001b[39mC:/Users/vikto/Documents/A Økonomi/8. Semester/IntroProg/16264514660383.jpg\u001b[39m\u001b[39m\"\u001b[39m)\n",
      "File \u001b[0;32m~/opt/anaconda3/lib/python3.9/site-packages/PIL/Image.py:3227\u001b[0m, in \u001b[0;36mopen\u001b[0;34m(fp, mode, formats)\u001b[0m\n\u001b[1;32m   3224\u001b[0m     filename \u001b[39m=\u001b[39m fp\n\u001b[1;32m   3226\u001b[0m \u001b[39mif\u001b[39;00m filename:\n\u001b[0;32m-> 3227\u001b[0m     fp \u001b[39m=\u001b[39m builtins\u001b[39m.\u001b[39;49mopen(filename, \u001b[39m\"\u001b[39;49m\u001b[39mrb\u001b[39;49m\u001b[39m\"\u001b[39;49m)\n\u001b[1;32m   3228\u001b[0m     exclusive_fp \u001b[39m=\u001b[39m \u001b[39mTrue\u001b[39;00m\n\u001b[1;32m   3230\u001b[0m \u001b[39mtry\u001b[39;00m:\n",
      "\u001b[0;31mFileNotFoundError\u001b[0m: [Errno 2] No such file or directory: 'C:/Users/vikto/Documents/A Økonomi/8. Semester/IntroProg/16264514660383.jpg'"
     ]
    }
   ],
   "source": [
    "# Open the image file\n",
    "img = Image.open(\"C:/Users/vikto/Documents/A Økonomi/8. Semester/IntroProg/16264514660383.jpg\")\n",
    "\n",
    "# Convert the image to a NumPy array\n",
    "img_array = plt.imread(\"C:/Users/vikto/Documents/A Økonomi/8. Semester/IntroProg/16264514660383.jpg\")\n",
    "\n",
    "# Show the image in a plot\n",
    "plt.imshow(img_array)\n",
    "plt.title('Hola mi llamo sweet Hasbi')\n",
    "plt.xticks([])\n",
    "plt.yticks([])\n",
    "plt.show()"
   ]
  }
 ],
 "metadata": {
  "kernelspec": {
   "display_name": "base",
   "language": "python",
   "name": "python3"
  },
  "language_info": {
   "codemirror_mode": {
    "name": "ipython",
    "version": 3
   },
   "file_extension": ".py",
   "mimetype": "text/x-python",
   "name": "python",
   "nbconvert_exporter": "python",
   "pygments_lexer": "ipython3",
   "version": "3.9.16"
  },
  "toc-autonumbering": true,
  "vscode": {
   "interpreter": {
    "hash": "47ef90cdf3004d3f859f1fb202523c65c07ba7c22eefd261b181f4744e2d0403"
   }
  }
 },
 "nbformat": 4,
 "nbformat_minor": 4
}
