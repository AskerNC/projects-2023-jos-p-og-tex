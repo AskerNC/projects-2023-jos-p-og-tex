{
 "cells": [
  {
   "attachments": {},
   "cell_type": "markdown",
   "metadata": {},
   "source": [
    "# Inaugural Project - by Josefine, Viktor and Pernille"
   ]
  },
  {
   "attachments": {},
   "cell_type": "markdown",
   "metadata": {},
   "source": [
    "> **Table of contents** \n",
    "> 1. We import and set magics for our **inaugural project**.\n",
    "> 1. We solve questions 1-5\n",
    "> 1. We conclude"
   ]
  },
  {
   "cell_type": "markdown",
   "metadata": {},
   "source": [
    "Imports and set magics:"
   ]
  },
  {
   "cell_type": "code",
   "execution_count": 2,
   "metadata": {},
   "outputs": [],
   "source": [
    "import numpy as np\n",
    "import matplotlib.pyplot as plt\n",
    "\n",
    "# Predefine options for all plots\n",
    "plt.rcParams.update({\"axes.grid\":True,\"grid.color\":\"black\",\"grid.alpha\":\"0.25\",\"grid.linestyle\":\"-\"})\n",
    "plt.rcParams.update({'font.size': 14})\n",
    "\n",
    "# autoreload modules when code is run. Otherwise, python will not see recent changes. \n",
    "%load_ext autoreload\n",
    "%autoreload 2\n",
    "\n",
    "# Import your own code\n",
    "from inauguralproject import HouseholdSpecializationModelClass\n",
    "model = HouseholdSpecializationModelClass()"
   ]
  },
  {
   "cell_type": "markdown",
   "metadata": {},
   "source": [
    "# Question 1"
   ]
  },
  {
   "attachments": {},
   "cell_type": "markdown",
   "metadata": {},
   "source": [
    "We illustrate how the following expression changes with varying alpha and sigma values $$ \\frac{H_F}{H_M} $$  "
   ]
  },
  {
   "attachments": {},
   "cell_type": "markdown",
   "metadata": {},
   "source": [
    "The expression depicts the relationship for homeproduction between females and males. We solve question 1:"
   ]
  },
  {
   "cell_type": "code",
   "execution_count": 3,
   "metadata": {},
   "outputs": [
    {
     "name": "stderr",
     "output_type": "stream",
     "text": [
      "c:\\Users\\vikto\\Documents\\A Økonomi\\8. Semester\\IntroProg\\Python og VScode\\projects-2023-jos-p-og-tex\\inauguralproject\\inauguralproject.py:73: RuntimeWarning: divide by zero encountered in reciprocal\n",
      "  H = ((1-par.alpha)*HM**((par.sigma-1)/par.sigma) + par.alpha*HF**((par.sigma-1)/par.sigma))**(par.sigma/(par.sigma-1))\n"
     ]
    },
    {
     "name": "stdout",
     "output_type": "stream",
     "text": [
      "alpha = 0.25, sigma = 0.50 -> HF/HM = 3.00/5.50 = 0.55\n",
      "alpha = 0.25, sigma = 1.00 -> HF/HM = 2.00/6.50 = 0.31\n",
      "alpha = 0.25, sigma = 1.50 -> HF/HM = 1.50/7.00 = 0.21\n",
      "alpha = 0.50, sigma = 0.50 -> HF/HM = 4.50/4.50 = 1.00\n",
      "alpha = 0.50, sigma = 1.00 -> HF/HM = 4.50/4.50 = 1.00\n",
      "alpha = 0.50, sigma = 1.50 -> HF/HM = 4.50/4.50 = 1.00\n",
      "alpha = 0.75, sigma = 0.50 -> HF/HM = 5.50/3.00 = 1.83\n",
      "alpha = 0.75, sigma = 1.00 -> HF/HM = 6.50/2.00 = 3.25\n",
      "alpha = 0.75, sigma = 1.50 -> HF/HM = 7.00/1.50 = 4.67\n"
     ]
    }
   ],
   "source": [
    "# We define lists for the varying alpha and sigma values\n",
    "alpha_list = [0.25, 0.5, 0.75]\n",
    "sigma_list = [0.5, 1.0, 1.5]\n",
    "\n",
    "# We solve the model using the defined lists of values for sigma and alpha\n",
    "for alpha in alpha_list:    \n",
    "    for sigma in sigma_list:\n",
    "        \n",
    "        # Assigning values to alpha and sigma\n",
    "        model.par.alpha = alpha\n",
    "        model.par.sigma = sigma\n",
    "\n",
    "        # Solving the model\n",
    "        opt = model.solve_discrete()\n",
    "\n",
    "        # Print results\n",
    "        print(f\"alpha = {alpha:.2f}, sigma = {sigma:.2f} -> HF/HM = {opt.HF:.2f}/{opt.HM:.2f} = {opt.HF/opt.HM:.2f}\")"
   ]
  },
  {
   "cell_type": "code",
   "execution_count": 4,
   "metadata": {},
   "outputs": [],
   "source": [
    "# Evt. lav plot over resultaterne"
   ]
  },
  {
   "attachments": {},
   "cell_type": "markdown",
   "metadata": {},
   "source": [
    "From these results we gather, that Alpha represents how productive the female is in the household and Sigma represents the elasticity of substitution. Meaning that:\n",
    "\n",
    "- For alpha = 0.5 the male and female are equally productive and sigma has no effect. \n",
    "- For alpha > 0.5 the female is more productive, and for wF = wM = 1, the female will work more hours in the household compared to the male. \n",
    "- For alpha < 0.5 the female is less productive, and for wF = wM = 1, the female will work less hours in the household compared to the male."
   ]
  },
  {
   "cell_type": "markdown",
   "metadata": {},
   "source": [
    "# Question 2"
   ]
  },
  {
   "attachments": {},
   "cell_type": "markdown",
   "metadata": {},
   "source": [
    "We plot the following logaritmic functions against eachother using varying values for female wage: $$ log\\frac{H_F}{H_M} \\\\\\ \\\\\\ log\\frac{w_F}{w_M}$$ "
   ]
  },
  {
   "attachments": {},
   "cell_type": "markdown",
   "metadata": {},
   "source": [
    "We solve question 2:"
   ]
  },
  {
   "cell_type": "code",
   "execution_count": 5,
   "metadata": {},
   "outputs": [
    {
     "name": "stdout",
     "output_type": "stream",
     "text": [
      "wF = 0.80 -> HF/HM = 5.00/4.00 = 1.250\n",
      "wF = 0.90 -> HF/HM = 4.50/4.50 = 1.000\n",
      "wF = 1.00 -> HF/HM = 4.50/4.50 = 1.000\n",
      "wF = 1.10 -> HF/HM = 4.00/4.50 = 0.889\n",
      "wF = 1.20 -> HF/HM = 4.00/5.00 = 0.800\n"
     ]
    },
    {
     "data": {
      "text/plain": [
       "Text(0, 0.5, '$ log(H_F/H_M) $')"
      ]
     },
     "execution_count": 5,
     "metadata": {},
     "output_type": "execute_result"
    },
    {
     "data": {
      "image/png": "[encoded data removed]",
      "text/plain": [
       "<Figure size 600x400 with 1 Axes>"
      ]
     },
     "metadata": {},
     "output_type": "display_data"
    }
   ],
   "source": [
    "# We define a new model = model2 to overwrite changes made in previous questions\n",
    "model2 = HouseholdSpecializationModelClass()\n",
    "\n",
    "# We create an empty list to store values of w and H \n",
    "w_log = []\n",
    "H_log = []\n",
    "\n",
    "# We create a for loop \n",
    "for wF in model2.par.wF_vec:    \n",
    "\n",
    "# xxx\n",
    "        model2.par.wF = wF\n",
    "\n",
    "        # Solving the model\n",
    "        opt = model2.solve_discrete()\n",
    "        w_log.append(np.log(model2.par.wF/model2.par.wM))\n",
    "        H_log.append(np.log(opt.HF/opt.HM))\n",
    "\n",
    "        # Print results\n",
    "        print(f\"wF = {wF:.2f} -> HF/HM = {opt.HF:.2f}/{opt.HM:.2f} = {opt.HF/opt.HM:.3f}\")\n",
    "\n",
    "# We plot the results\n",
    "fig1 = plt.figure(figsize = (6,4))\n",
    "ax = fig1.add_subplot(1,1,1)\n",
    "\n",
    "ax.plot(w_log,H_log,ls='-',lw=2,color='blue')\n",
    "\n",
    "ax.set_xlabel('$ log(w_F/w_M) $')\n",
    "ax.set_ylabel('$ log(H_F/H_M) $')\n"
   ]
  },
  {
   "attachments": {},
   "cell_type": "markdown",
   "metadata": {},
   "source": [
    "Our plot depicts the relationsship between log of the relative homeproduction and log of relative wages. The plot showcases, that when the wage ratio increases, then the production in the household decreases. **TILFØJ MER**"
   ]
  },
  {
   "cell_type": "markdown",
   "metadata": {},
   "source": [
    "# Question 3"
   ]
  },
  {
   "attachments": {},
   "cell_type": "markdown",
   "metadata": {},
   "source": [
    "In question 3 we assume that time is continous rather than discrete.\n",
    "\n",
    "Again we plot the following logaritmic functions against eachother using varying values for female wage: $$ log\\frac{H_F}{H_M} \\\\\\ \\\\\\ log\\frac{w_F}{w_M}$$ "
   ]
  },
  {
   "cell_type": "code",
   "execution_count": 6,
   "metadata": {},
   "outputs": [
    {
     "name": "stdout",
     "output_type": "stream",
     "text": [
      "wF = 0.80 -> HF/HM = 5.12/4.09 = 1.250\n",
      "wF = 0.90 -> HF/HM = 4.75/4.27 = 1.111\n",
      "wF = 1.00 -> HF/HM = 4.45/4.45 = 1.000\n",
      "wF = 1.10 -> HF/HM = 4.22/4.64 = 0.909\n",
      "wF = 1.20 -> HF/HM = 4.03/4.83 = 0.833\n"
     ]
    },
    {
     "data": {
      "text/plain": [
       "Text(0, 0.5, '$ log(H_F/H_M) $')"
      ]
     },
     "execution_count": 6,
     "metadata": {},
     "output_type": "execute_result"
    },
    {
     "data": {
      "image/png": "[encoded data removed]",
      "text/plain": [
       "<Figure size 600x400 with 1 Axes>"
      ]
     },
     "metadata": {},
     "output_type": "display_data"
    }
   ],
   "source": [
    "# We define a new model = model3 to overwrite changes made in the previous questions\n",
    "model3 = HouseholdSpecializationModelClass()\n",
    "\n",
    "# Create an empty list to store values of w and H \n",
    "w_log2 = []\n",
    "H_log2 = []\n",
    "\n",
    "# We create a for loop \n",
    "for wF in model3.par.wF_vec:    \n",
    "\n",
    "# xxx\n",
    "        model3.par.wF = wF\n",
    "\n",
    "        # Solving the model\n",
    "        opt = model3.solve()\n",
    "        w_log2.append(np.log(model3.par.wF/model3.par.wM))\n",
    "        H_log2.append(np.log(opt.HF/opt.HM))\n",
    "\n",
    "        # Print results\n",
    "        print(f\"wF = {wF:.2f} -> HF/HM = {opt.HF:.2f}/{opt.HM:.2f} = {opt.HF/opt.HM:.3f}\")\n",
    "\n",
    "# We plot the results\n",
    "fig2 = plt.figure(figsize = (6,4))\n",
    "ax = fig2.add_subplot(1,1,1)\n",
    "\n",
    "ax.plot(w_log2,H_log2,ls='-',lw=2,color='blue')\n",
    "\n",
    "ax.set_xlabel('$ log(w_F/w_M) $')\n",
    "ax.set_ylabel('$ log(H_F/H_M) $')\n",
    "\n"
   ]
  },
  {
   "attachments": {},
   "cell_type": "markdown",
   "metadata": {},
   "source": [
    "# Question 4"
   ]
  },
  {
   "attachments": {},
   "cell_type": "markdown",
   "metadata": {},
   "source": [
    "In Siminski and Yetsenga (2022), *Specialization, Comparative Advantage, and the Sexual Division of Labor*, the following regression is run on time use data of couple:\n",
    "\n",
    "$$ log\\frac{H_F}{H_M} = beta_0 + beta_1*log\\frac{w_F}{w_M}$$ "
   ]
  },
  {
   "attachments": {},
   "cell_type": "markdown",
   "metadata": {},
   "source": [
    "They estimate the betavalues to be approx. $$ beta_0 = 0.4 $$ $$ beta_1 = -0.1 $$"
   ]
  },
  {
   "attachments": {},
   "cell_type": "markdown",
   "metadata": {},
   "source": [
    "In question 4 we estimate values of alpha and sigma that gets us closest to the values found in Siminski and Yetsenga (2022). We do this by creating a for loop that run through different values of sigma and alpha until it reaches the values that minimize the following expression:\n",
    "\n",
    " $$ (beta_0 - betahat_0)^2 + (beta_1 - betahat_1)^2 $$"
   ]
  },
  {
   "cell_type": "code",
   "execution_count": 7,
   "metadata": {},
   "outputs": [
    {
     "name": "stderr",
     "output_type": "stream",
     "text": [
      "c:\\Users\\vikto\\Documents\\A Økonomi\\8. Semester\\IntroProg\\Python og VScode\\projects-2023-jos-p-og-tex\\inauguralproject\\inauguralproject.py:73: RuntimeWarning: invalid value encountered in double_scalars\n",
      "  H = ((1-par.alpha)*HM**((par.sigma-1)/par.sigma) + par.alpha*HF**((par.sigma-1)/par.sigma))**(par.sigma/(par.sigma-1))\n",
      "c:\\Users\\vikto\\Documents\\A Økonomi\\8. Semester\\IntroProg\\Python og VScode\\projects-2023-jos-p-og-tex\\inauguralproject\\inauguralproject.py:77: RuntimeWarning: invalid value encountered in double_scalars\n",
      "  Q = C**par.omega*H**(1-par.omega)\n",
      "c:\\Users\\vikto\\Documents\\A Økonomi\\8. Semester\\IntroProg\\Python og VScode\\projects-2023-jos-p-og-tex\\inauguralproject\\inauguralproject.py:197: RuntimeWarning: invalid value encountered in log\n",
      "  y = np.log(sol.HF_vec/sol.HM_vec)\n"
     ]
    },
    {
     "ename": "LinAlgError",
     "evalue": "SVD did not converge in Linear Least Squares",
     "output_type": "error",
     "traceback": [
      "\u001b[1;31m---------------------------------------------------------------------------\u001b[0m",
      "\u001b[1;31mLinAlgError\u001b[0m                               Traceback (most recent call last)",
      "Cell \u001b[1;32mIn[7], line 20\u001b[0m\n\u001b[0;32m     17\u001b[0m beta0 \u001b[39m=\u001b[39m \u001b[39m0.4\u001b[39m\n\u001b[0;32m     18\u001b[0m beta1 \u001b[39m=\u001b[39m \u001b[39m-\u001b[39m\u001b[39m0.1\u001b[39m\n\u001b[1;32m---> 20\u001b[0m sol \u001b[39m=\u001b[39m model4\u001b[39m.\u001b[39;49mrun_regression()\n\u001b[0;32m     21\u001b[0m val \u001b[39m=\u001b[39m (beta0\u001b[39m-\u001b[39mmodel4\u001b[39m.\u001b[39msol\u001b[39m.\u001b[39mbeta0)\u001b[39m*\u001b[39m\u001b[39m*\u001b[39m\u001b[39m2\u001b[39m\u001b[39m+\u001b[39m(beta1\u001b[39m-\u001b[39mmodel4\u001b[39m.\u001b[39msol\u001b[39m.\u001b[39mbeta1)\u001b[39m*\u001b[39m\u001b[39m*\u001b[39m\u001b[39m2\u001b[39m\n\u001b[0;32m     22\u001b[0m \u001b[39mif\u001b[39;00m val\u001b[39m<\u001b[39mmin_val:\n",
      "File \u001b[1;32mc:\\Users\\vikto\\Documents\\A Økonomi\\8. Semester\\IntroProg\\Python og VScode\\projects-2023-jos-p-og-tex\\inauguralproject\\inauguralproject.py:199\u001b[0m, in \u001b[0;36mHouseholdSpecializationModelClass.run_regression\u001b[1;34m(self)\u001b[0m\n\u001b[0;32m    197\u001b[0m y \u001b[39m=\u001b[39m np\u001b[39m.\u001b[39mlog(sol\u001b[39m.\u001b[39mHF_vec\u001b[39m/\u001b[39msol\u001b[39m.\u001b[39mHM_vec)\n\u001b[0;32m    198\u001b[0m A \u001b[39m=\u001b[39m np\u001b[39m.\u001b[39mvstack([np\u001b[39m.\u001b[39mones(x\u001b[39m.\u001b[39msize),x])\u001b[39m.\u001b[39mT\n\u001b[1;32m--> 199\u001b[0m sol\u001b[39m.\u001b[39mbeta0,sol\u001b[39m.\u001b[39mbeta1 \u001b[39m=\u001b[39m np\u001b[39m.\u001b[39;49mlinalg\u001b[39m.\u001b[39;49mlstsq(A,y,rcond\u001b[39m=\u001b[39;49m\u001b[39mNone\u001b[39;49;00m)[\u001b[39m0\u001b[39m] \n\u001b[0;32m    201\u001b[0m \u001b[39mreturn\u001b[39;00m sol\u001b[39m.\u001b[39mbeta0,sol\u001b[39m.\u001b[39mbeta1\n",
      "File \u001b[1;32m<__array_function__ internals>:180\u001b[0m, in \u001b[0;36mlstsq\u001b[1;34m(*args, **kwargs)\u001b[0m\n",
      "File \u001b[1;32mc:\\Users\\vikto\\anaconda3\\lib\\site-packages\\numpy\\linalg\\linalg.py:2300\u001b[0m, in \u001b[0;36mlstsq\u001b[1;34m(a, b, rcond)\u001b[0m\n\u001b[0;32m   2297\u001b[0m \u001b[39mif\u001b[39;00m n_rhs \u001b[39m==\u001b[39m \u001b[39m0\u001b[39m:\n\u001b[0;32m   2298\u001b[0m     \u001b[39m# lapack can't handle n_rhs = 0 - so allocate the array one larger in that axis\u001b[39;00m\n\u001b[0;32m   2299\u001b[0m     b \u001b[39m=\u001b[39m zeros(b\u001b[39m.\u001b[39mshape[:\u001b[39m-\u001b[39m\u001b[39m2\u001b[39m] \u001b[39m+\u001b[39m (m, n_rhs \u001b[39m+\u001b[39m \u001b[39m1\u001b[39m), dtype\u001b[39m=\u001b[39mb\u001b[39m.\u001b[39mdtype)\n\u001b[1;32m-> 2300\u001b[0m x, resids, rank, s \u001b[39m=\u001b[39m gufunc(a, b, rcond, signature\u001b[39m=\u001b[39;49msignature, extobj\u001b[39m=\u001b[39;49mextobj)\n\u001b[0;32m   2301\u001b[0m \u001b[39mif\u001b[39;00m m \u001b[39m==\u001b[39m \u001b[39m0\u001b[39m:\n\u001b[0;32m   2302\u001b[0m     x[\u001b[39m.\u001b[39m\u001b[39m.\u001b[39m\u001b[39m.\u001b[39m] \u001b[39m=\u001b[39m \u001b[39m0\u001b[39m\n",
      "File \u001b[1;32mc:\\Users\\vikto\\anaconda3\\lib\\site-packages\\numpy\\linalg\\linalg.py:101\u001b[0m, in \u001b[0;36m_raise_linalgerror_lstsq\u001b[1;34m(err, flag)\u001b[0m\n\u001b[0;32m    100\u001b[0m \u001b[39mdef\u001b[39;00m \u001b[39m_raise_linalgerror_lstsq\u001b[39m(err, flag):\n\u001b[1;32m--> 101\u001b[0m     \u001b[39mraise\u001b[39;00m LinAlgError(\u001b[39m\"\u001b[39m\u001b[39mSVD did not converge in Linear Least Squares\u001b[39m\u001b[39m\"\u001b[39m)\n",
      "\u001b[1;31mLinAlgError\u001b[0m: SVD did not converge in Linear Least Squares"
     ]
    }
   ],
   "source": [
    "# We define a new model = model4 to overwrite changes made in the previous questions\n",
    "model4 = HouseholdSpecializationModelClass()\n",
    "\n",
    "# xxx\n",
    "min_val = float('inf')\n",
    "min_args = []\n",
    "\n",
    "# xxx\n",
    "for alpha in range(1,101):\n",
    "    alpha = alpha/100.0    \n",
    "    for sigma in range(1,101):\n",
    "        sigma=sigma/100.0\n",
    "\n",
    "        # xxx\n",
    "        model4.par.alpha = alpha\n",
    "        model4.par.sigma = sigma\n",
    "        beta0 = 0.4\n",
    "        beta1 = -0.1\n",
    "\n",
    "        sol = model4.run_regression()\n",
    "        val = (beta0-model4.sol.beta0)**2+(beta1-model4.sol.beta1)**2\n",
    "        if val<min_val:\n",
    "            min_val=val\n",
    "            min_args=[alpha,sigma]\n",
    "        elif val==min_val:\n",
    "            min_args.append(alpha)\n",
    "            min_args.append(sigma)\n",
    "\n",
    "\n",
    "print(min_val)\n",
    "print(min_args)\n"
   ]
  },
  {
   "cell_type": "code",
   "execution_count": null,
   "metadata": {},
   "outputs": [],
   "source": [
    "model4.par.alpha=min_args[0]\n",
    "model4.par.sigma=min_args[1]\n",
    "sol = model4.run_regression()\n",
    "print(model4.sol.beta0,model4.sol.beta1)"
   ]
  },
  {
   "attachments": {},
   "cell_type": "markdown",
   "metadata": {},
   "source": [
    "# Question 5"
   ]
  },
  {
   "cell_type": "markdown",
   "metadata": {},
   "source": [
    "Explain your code and procedure"
   ]
  },
  {
   "cell_type": "code",
   "execution_count": null,
   "metadata": {},
   "outputs": [],
   "source": [
    "model5 = HouseholdSpecializationModelClass()\n",
    "\n",
    "results = model5.extension()\n",
    "\n",
    "sol = model5.run_regression()\n",
    "print(model5.sol.beta0,model5.sol.beta1)\n"
   ]
  },
  {
   "cell_type": "code",
   "execution_count": null,
   "metadata": {},
   "outputs": [],
   "source": [
    "model5 = HouseholdSpecializationModelClass()\n",
    "\n",
    "\n",
    "# We define lists for the varying alpha and sigma values\n",
    "min_val = float('inf')\n",
    "min_args = []\n",
    "\n",
    "# We solve the model using the defined lists of values for sigma and alpha  \n",
    "for sigma in range(1,101):\n",
    "    sigma=sigma/100.0\n",
    "    \n",
    "    # Assigning values to alpha and sigma\n",
    "    model5.par.alpha = 0.5\n",
    "    model5.par.sigma = sigma\n",
    "    beta0 = 0.4\n",
    "    beta1 = -0.1\n",
    "\n",
    "    sol = model5.run_regression()\n",
    "    val = (beta0-model5.sol.beta0)**2+(beta1-model5.sol.beta1)**2\n",
    "    if val<min_val:\n",
    "        min_val=val\n",
    "        min_args=[sigma]\n",
    "    elif val==min_val:\n",
    "        min_args.append(sigma)\n",
    "\n",
    "\n",
    "print(min_val)\n",
    "print(min_args)\n"
   ]
  },
  {
   "cell_type": "markdown",
   "metadata": {},
   "source": [
    "ADD CONCISE CONLUSION."
   ]
  }
 ],
 "metadata": {
  "kernelspec": {
   "display_name": "base",
   "language": "python",
   "name": "python3"
  },
  "language_info": {
   "codemirror_mode": {
    "name": "ipython",
    "version": 3
   },
   "file_extension": ".py",
   "mimetype": "text/x-python",
   "name": "python",
   "nbconvert_exporter": "python",
   "pygments_lexer": "ipython3",
   "version": "3.9.16"
  },
  "toc-autonumbering": true,
  "vscode": {
   "interpreter": {
    "hash": "47ef90cdf3004d3f859f1fb202523c65c07ba7c22eefd261b181f4744e2d0403"
   }
  }
 },
 "nbformat": 4,
 "nbformat_minor": 4
}
