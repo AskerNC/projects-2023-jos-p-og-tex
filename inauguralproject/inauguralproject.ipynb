{
 "cells": [
  {
   "attachments": {},
   "cell_type": "markdown",
   "metadata": {},
   "source": [
    "# Inaugural Project - by Josefine, Viktor and Pernille"
   ]
  },
  {
   "attachments": {},
   "cell_type": "markdown",
   "metadata": {},
   "source": [
    "> **Structure** \n",
    "> 1. We import and set magics for our **inaugural project**.\n",
    "> 1. We define our problem and functions\n",
    "> 1. We solve questions 1-5"
   ]
  },
  {
   "cell_type": "markdown",
   "metadata": {},
   "source": [
    "Imports and set magics:"
   ]
  },
  {
   "cell_type": "code",
   "execution_count": 33,
   "metadata": {},
   "outputs": [
    {
     "name": "stdout",
     "output_type": "stream",
     "text": [
      "The autoreload extension is already loaded. To reload it, use:\n",
      "  %reload_ext autoreload\n"
     ]
    }
   ],
   "source": [
    "import numpy as np\n",
    "import matplotlib.pyplot as plt\n",
    "\n",
    "# Predefine options for all plots\n",
    "plt.rcParams.update({\"axes.grid\":True,\"grid.color\":\"black\",\"grid.alpha\":\"0.25\",\"grid.linestyle\":\"-\"})\n",
    "plt.rcParams.update({'font.size': 14})\n",
    "\n",
    "# autoreload modules when code is run. Otherwise, python will not see recent changes. \n",
    "%load_ext autoreload\n",
    "%autoreload 2\n",
    "\n",
    "# Import your own code\n",
    "from inauguralproject import HouseholdSpecializationModelClass\n",
    "model = HouseholdSpecializationModelClass()"
   ]
  },
  {
   "cell_type": "markdown",
   "metadata": {},
   "source": [
    "# Question 1"
   ]
  },
  {
   "attachments": {},
   "cell_type": "markdown",
   "metadata": {},
   "source": [
    "We illustrate how the following expression changes with varying alpha and sigma values $$ \\frac{H_F}{H_M} $$  "
   ]
  },
  {
   "attachments": {},
   "cell_type": "markdown",
   "metadata": {},
   "source": [
    "The expression depicts the relationship between hours worked at home for females relative to males. We solve question 1:"
   ]
  },
  {
   "cell_type": "code",
   "execution_count": 34,
   "metadata": {},
   "outputs": [
    {
     "name": "stderr",
     "output_type": "stream",
     "text": [
      "c:\\Users\\vikto\\Documents\\A Økonomi\\8. Semester\\IntroProg\\Python og VScode\\projects-2023-jos-p-og-tex\\inauguralproject\\inauguralproject.py:73: RuntimeWarning: divide by zero encountered in reciprocal\n",
      "  H = ((1-par.alpha)*HM**((par.sigma-1)/par.sigma) + par.alpha*HF**((par.sigma-1)/par.sigma))**(par.sigma/(par.sigma-1))\n"
     ]
    },
    {
     "name": "stdout",
     "output_type": "stream",
     "text": [
      "alpha = 0.25, sigma = 0.50 -> HF/HM = 3.00/5.50 = 0.55\n",
      "alpha = 0.25, sigma = 1.00 -> HF/HM = 2.00/6.50 = 0.31\n",
      "alpha = 0.25, sigma = 1.50 -> HF/HM = 1.50/7.00 = 0.21\n",
      "alpha = 0.50, sigma = 0.50 -> HF/HM = 4.50/4.50 = 1.00\n",
      "alpha = 0.50, sigma = 1.00 -> HF/HM = 4.50/4.50 = 1.00\n",
      "alpha = 0.50, sigma = 1.50 -> HF/HM = 4.50/4.50 = 1.00\n",
      "alpha = 0.75, sigma = 0.50 -> HF/HM = 5.50/3.00 = 1.83\n",
      "alpha = 0.75, sigma = 1.00 -> HF/HM = 6.50/2.00 = 3.25\n",
      "alpha = 0.75, sigma = 1.50 -> HF/HM = 7.00/1.50 = 4.67\n"
     ]
    }
   ],
   "source": [
    "# We define lists for the varying alpha and sigma values\n",
    "alpha_list = [0.25, 0.5, 0.75]\n",
    "sigma_list = [0.5, 1.0, 1.5]\n",
    "\n",
    "# We solve the model using the defined lists of values for sigma and alpha\n",
    "for alpha in alpha_list:    \n",
    "    for sigma in sigma_list:\n",
    "        # Assigning values to alpha and sigma\n",
    "        model.par.alpha = alpha\n",
    "        model.par.sigma = sigma\n",
    "\n",
    "        # Solving the model\n",
    "        opt = model.solve_discrete()\n",
    "\n",
    "        # Print results\n",
    "        print(f\"alpha = {alpha:.2f}, sigma = {sigma:.2f} -> HF/HM = {opt.HF:.2f}/{opt.HM:.2f} = {opt.HF/opt.HM:.2f}\")"
   ]
  },
  {
   "cell_type": "code",
   "execution_count": 35,
   "metadata": {},
   "outputs": [],
   "source": [
    "# Evt. lav plot over resultaterne"
   ]
  },
  {
   "attachments": {},
   "cell_type": "markdown",
   "metadata": {},
   "source": [
    "As is shown in the above results, "
   ]
  },
  {
   "cell_type": "markdown",
   "metadata": {},
   "source": [
    "# Question 2"
   ]
  },
  {
   "attachments": {},
   "cell_type": "markdown",
   "metadata": {},
   "source": [
    "We plot the following logaritmic functions against eachother using varying values for female wage: $$ log\\frac{H_F}{H_M} --- log\\frac{w_F}{w_M}$$ "
   ]
  },
  {
   "cell_type": "code",
   "execution_count": 36,
   "metadata": {},
   "outputs": [
    {
     "name": "stdout",
     "output_type": "stream",
     "text": [
      "wF = 0.80 -> HF/HM = 5.00/4.00 = 1.250\n",
      "wF = 0.90 -> HF/HM = 4.50/4.50 = 1.000\n",
      "wF = 1.00 -> HF/HM = 4.50/4.50 = 1.000\n",
      "wF = 1.10 -> HF/HM = 4.00/4.50 = 0.889\n",
      "wF = 1.20 -> HF/HM = 4.00/5.00 = 0.800\n"
     ]
    },
    {
     "data": {
      "text/plain": [
       "Text(0, 0.5, '$ log(H_F/H_M) $')"
      ]
     },
     "execution_count": 36,
     "metadata": {},
     "output_type": "execute_result"
    },
    {
     "data": {
      "image/png": "[encoded data removed]",
      "text/plain": [
       "<Figure size 600x400 with 1 Axes>"
      ]
     },
     "metadata": {},
     "output_type": "display_data"
    }
   ],
   "source": [
    "# We define a new model = model2 to overwrite changes made in question 1\n",
    "model2 = HouseholdSpecializationModelClass()\n",
    "\n",
    "# Create an empty list to store values of w and H \n",
    "w_log = []\n",
    "H_log = []\n",
    "\n",
    "# We create a for loop \n",
    "for wF in model2.par.wF_vec:    \n",
    "\n",
    "# Assigning values to alpha and sigma\n",
    "        model2.par.wF = wF\n",
    "\n",
    "        # Solving the model\n",
    "        opt = model2.solve_discrete()\n",
    "        w_log.append(np.log(model2.par.wF/model2.par.wM))\n",
    "        H_log.append(np.log(opt.HF/opt.HM))\n",
    "\n",
    "        # Print results\n",
    "        print(f\"wF = {wF:.2f} -> HF/HM = {opt.HF:.2f}/{opt.HM:.2f} = {opt.HF/opt.HM:.3f}\")\n",
    "\n",
    "fig1 = plt.figure(figsize = (6,4))\n",
    "ax = fig1.add_subplot(1,1,1)\n",
    "\n",
    "ax.plot(w_log,H_log,ls='-',lw=2,color='blue')\n",
    "\n",
    "ax.set_xlabel('$ log(w_F/w_M) $')\n",
    "ax.set_ylabel('$ log(H_F/H_M) $')\n"
   ]
  },
  {
   "cell_type": "markdown",
   "metadata": {},
   "source": [
    "# Question 3"
   ]
  },
  {
   "cell_type": "markdown",
   "metadata": {},
   "source": [
    "Explain your code and procedure"
   ]
  },
  {
   "cell_type": "code",
   "execution_count": 37,
   "metadata": {},
   "outputs": [],
   "source": [
    "# code"
   ]
  },
  {
   "attachments": {},
   "cell_type": "markdown",
   "metadata": {},
   "source": [
    "# Question 4"
   ]
  },
  {
   "cell_type": "markdown",
   "metadata": {},
   "source": [
    "Explain your code and procedure"
   ]
  },
  {
   "cell_type": "code",
   "execution_count": 38,
   "metadata": {},
   "outputs": [],
   "source": [
    "# code"
   ]
  },
  {
   "attachments": {},
   "cell_type": "markdown",
   "metadata": {},
   "source": [
    "# Question 5"
   ]
  },
  {
   "cell_type": "markdown",
   "metadata": {},
   "source": [
    "Explain your code and procedure"
   ]
  },
  {
   "cell_type": "code",
   "execution_count": 39,
   "metadata": {},
   "outputs": [],
   "source": [
    "# code"
   ]
  },
  {
   "cell_type": "markdown",
   "metadata": {},
   "source": [
    "ADD CONCISE CONLUSION."
   ]
  }
 ],
 "metadata": {
  "kernelspec": {
   "display_name": "base",
   "language": "python",
   "name": "python3"
  },
  "language_info": {
   "codemirror_mode": {
    "name": "ipython",
    "version": 3
   },
   "file_extension": ".py",
   "mimetype": "text/x-python",
   "name": "python",
   "nbconvert_exporter": "python",
   "pygments_lexer": "ipython3",
   "version": "3.9.16"
  },
  "toc-autonumbering": true,
  "vscode": {
   "interpreter": {
    "hash": "47ef90cdf3004d3f859f1fb202523c65c07ba7c22eefd261b181f4744e2d0403"
   }
  }
 },
 "nbformat": 4,
 "nbformat_minor": 4
}
