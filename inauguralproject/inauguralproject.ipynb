{
 "cells": [
  {
   "attachments": {},
   "cell_type": "markdown",
   "metadata": {},
   "source": [
    "# Inaugural Project - by Josefine, Viktor and Pernille"
   ]
  },
  {
   "attachments": {},
   "cell_type": "markdown",
   "metadata": {},
   "source": [
    "> **Structure** \n",
    "> 1. We import and set magics for our **inaugural project**.\n",
    "> 1. We define our problem and functions\n",
    "> 1. We solve questions 1-5"
   ]
  },
  {
   "cell_type": "markdown",
   "metadata": {},
   "source": [
    "Imports and set magics:"
   ]
  },
  {
   "cell_type": "code",
   "execution_count": 1,
   "metadata": {},
   "outputs": [],
   "source": [
    "import numpy as np\n",
    "import matplotlib.pyplot as plt\n",
    "\n",
    "# Predefine options for all plots\n",
    "plt.rcParams.update({\"axes.grid\":True,\"grid.color\":\"black\",\"grid.alpha\":\"0.25\",\"grid.linestyle\":\"-\"})\n",
    "plt.rcParams.update({'font.size': 14})\n",
    "\n",
    "# autoreload modules when code is run. Otherwise, python will not see recent changes. \n",
    "%load_ext autoreload\n",
    "%autoreload 2\n",
    "\n",
    "# Import your own code\n",
    "from inauguralproject import HouseholdSpecializationModelClass\n",
    "model = HouseholdSpecializationModelClass()"
   ]
  },
  {
   "cell_type": "markdown",
   "metadata": {},
   "source": [
    "# Question 1"
   ]
  },
  {
   "attachments": {},
   "cell_type": "markdown",
   "metadata": {},
   "source": [
    "We illustrate how the following expression changes with varying alpha and sigma values $$ \\frac{H_F}{H_M} $$  "
   ]
  },
  {
   "attachments": {},
   "cell_type": "markdown",
   "metadata": {},
   "source": [
    "The expression depicts the relationship between hours worked at home for females relative to males. We solve question 1:"
   ]
  },
  {
   "cell_type": "code",
   "execution_count": null,
   "metadata": {},
   "outputs": [],
   "source": [
    "# We define lists for the varying alpha and sigma values\n",
    "alpha_list = [0.25, 0.5, 0.75]\n",
    "sigma_list = [0.5, 1.0, 1.5]\n",
    "\n",
    "# We solve the model using the defined lists of values for sigma and alpha\n",
    "for alpha in alpha_list:    \n",
    "    for sigma in sigma_list:\n",
    "        # Assigning values to alpha and sigma\n",
    "        model.par.alpha = alpha\n",
    "        model.par.sigma = sigma\n",
    "\n",
    "        # Solving the model\n",
    "        opt = model.solve_discrete()\n",
    "\n",
    "        # Print results\n",
    "        print(f\"alpha = {alpha:.2f}, sigma = {sigma:.2f} -> HF/HM = {opt.HF:.2f}/{opt.HM:.2f} = {opt.HF/opt.HM:.2f}\")"
   ]
  },
  {
   "cell_type": "code",
   "execution_count": null,
   "metadata": {},
   "outputs": [],
   "source": [
    "# Evt. lav plot over resultaterne"
   ]
  },
  {
   "attachments": {},
   "cell_type": "markdown",
   "metadata": {},
   "source": [
    "As is shown in the above results, "
   ]
  },
  {
   "cell_type": "markdown",
   "metadata": {},
   "source": [
    "# Question 2"
   ]
  },
  {
   "attachments": {},
   "cell_type": "markdown",
   "metadata": {},
   "source": [
    "We plot the following logaritmic functions against eachother using varying values for female wage: $$ log\\frac{H_F}{H_M} --- log\\frac{w_F}{w_M}$$ "
   ]
  },
  {
   "cell_type": "code",
   "execution_count": null,
   "metadata": {},
   "outputs": [],
   "source": [
    "# We define a new model = model2 to overwrite changes made in question 1\n",
    "model2 = HouseholdSpecializationModelClass()\n",
    "\n",
    "# Create an empty list to store values of w and H \n",
    "w_log = []\n",
    "H_log = []\n",
    "\n",
    "# We create a for loop \n",
    "for wF in model2.par.wF_vec:    \n",
    "\n",
    "# Assigning values to alpha and sigma\n",
    "        model2.par.wF = wF\n",
    "\n",
    "        # Solving the model\n",
    "        opt = model2.solve_discrete()\n",
    "        w_log.append(np.log(model2.par.wF/model2.par.wM))\n",
    "        H_log.append(np.log(opt.HF/opt.HM))\n",
    "\n",
    "        # Print results\n",
    "        print(f\"wF = {wF:.2f} -> HF/HM = {opt.HF:.2f}/{opt.HM:.2f} = {opt.HF/opt.HM:.3f}\")\n",
    "\n",
    "fig1 = plt.figure(figsize = (6,4))\n",
    "ax = fig1.add_subplot(1,1,1)\n",
    "\n",
    "ax.plot(w_log,H_log,ls='-',lw=2,color='blue')\n",
    "\n",
    "ax.set_xlabel('$ log(w_F/w_M) $')\n",
    "ax.set_ylabel('$ log(H_F/H_M) $')\n"
   ]
  },
  {
   "cell_type": "markdown",
   "metadata": {},
   "source": [
    "# Question 3"
   ]
  },
  {
   "cell_type": "markdown",
   "metadata": {},
   "source": [
    "Explain your code and procedure"
   ]
  },
  {
   "cell_type": "code",
   "execution_count": null,
   "metadata": {},
   "outputs": [],
   "source": [
    "# We define a new model = model2 to overwrite changes made in question 1\n",
    "model3 = HouseholdSpecializationModelClass()\n",
    "\n",
    "# Create an empty list to store values of w and H \n",
    "w_log2 = []\n",
    "H_log2 = []\n",
    "\n",
    "# We create a for loop \n",
    "for wF in model3.par.wF_vec:    \n",
    "\n",
    "# Assigning values to alpha and sigma\n",
    "        model3.par.wF = wF\n",
    "\n",
    "        # Solving the model\n",
    "        opt = model3.solve()\n",
    "        w_log2.append(np.log(model3.par.wF/model3.par.wM))\n",
    "        H_log2.append(np.log(opt.HF/opt.HM))\n",
    "\n",
    "        # Print results\n",
    "        print(f\"wF = {wF:.2f} -> HF/HM = {opt.HF:.2f}/{opt.HM:.2f} = {opt.HF/opt.HM:.3f}\")\n",
    "\n",
    "fig2 = plt.figure(figsize = (6,4))\n",
    "ax = fig2.add_subplot(1,1,1)\n",
    "\n",
    "ax.plot(w_log2,H_log2,ls='-',lw=2,color='blue')\n",
    "\n",
    "ax.set_xlabel('$ log(w_F/w_M) $')\n",
    "ax.set_ylabel('$ log(H_F/H_M) $')\n",
    "\n"
   ]
  },
  {
   "attachments": {},
   "cell_type": "markdown",
   "metadata": {},
   "source": [
    "# Question 4"
   ]
  },
  {
   "cell_type": "markdown",
   "metadata": {},
   "source": [
    "Explain your code and procedure"
   ]
  },
  {
   "cell_type": "code",
   "execution_count": null,
   "metadata": {},
   "outputs": [],
   "source": [
    "model4 = HouseholdSpecializationModelClass()\n",
    "\n",
    "# We define lists for the varying alpha and sigma values\n",
    "min_val = float('inf')\n",
    "min_args = []\n",
    "\n",
    "# We solve the model using the defined lists of values for sigma and alpha\n",
    "for alpha in range(1,101):\n",
    "    alpha = alpha/100.0    \n",
    "    for sigma in range(1,101):\n",
    "        sigma=sigma/100.0\n",
    "        # Assigning values to alpha and sigma\n",
    "        model4.par.alpha = alpha\n",
    "        model4.par.sigma = sigma\n",
    "        beta0 = 0.4\n",
    "        beta1 = -0.1\n",
    "\n",
    "        sol = model4.run_regression()\n",
    "        val = (beta0-model4.sol.beta0)**2+(beta1-model4.sol.beta1)**2\n",
    "        if val<min_val:\n",
    "            min_val=val\n",
    "            min_args=[alpha,sigma]\n",
    "        elif val==min_val:\n",
    "            min_args.append(alpha)\n",
    "            min_args.append(sigma)\n",
    "\n",
    "\n",
    "print(min_val)\n",
    "print(min_args)\n"
   ]
  },
  {
   "cell_type": "code",
   "execution_count": null,
   "metadata": {},
   "outputs": [],
   "source": [
    "model4.par.alpha=min_args[0]\n",
    "model4.par.sigma=min_args[1]\n",
    "sol = model4.run_regression()\n",
    "print(model4.sol.beta0,model4.sol.beta1)"
   ]
  },
  {
   "attachments": {},
   "cell_type": "markdown",
   "metadata": {},
   "source": [
    "# Question 5"
   ]
  },
  {
   "cell_type": "markdown",
   "metadata": {},
   "source": [
    "Explain your code and procedure"
   ]
  },
  {
   "cell_type": "code",
   "execution_count": 4,
   "metadata": {},
   "outputs": [
    {
     "name": "stdout",
     "output_type": "stream",
     "text": [
      "-1.567564974381083e-06 -0.9999910836611865\n"
     ]
    }
   ],
   "source": [
    "model5 = HouseholdSpecializationModelClass()\n",
    "\n",
    "results = model5.extension()\n",
    "\n",
    "sol = model5.run_regression()\n",
    "print(model5.sol.beta0,model5.sol.beta1)\n"
   ]
  },
  {
   "cell_type": "code",
   "execution_count": null,
   "metadata": {},
   "outputs": [],
   "source": [
    "model5 = HouseholdSpecializationModelClass()\n",
    "\n",
    "\n",
    "# We define lists for the varying alpha and sigma values\n",
    "min_val = float('inf')\n",
    "min_args = []\n",
    "\n",
    "# We solve the model using the defined lists of values for sigma and alpha  \n",
    "for sigma in range(1,101):\n",
    "    sigma=sigma/100.0\n",
    "    # Assigning values to alpha and sigma\n",
    "    model5.par.alpha = 0.5\n",
    "    model5.par.sigma = sigma\n",
    "    beta0 = 0.4\n",
    "    beta1 = -0.1\n",
    "\n",
    "    sol = model5.run_regression()\n",
    "    val = (beta0-model5.sol.beta0)**2+(beta1-model5.sol.beta1)**2\n",
    "    if val<min_val:\n",
    "        min_val=val\n",
    "        min_args=[sigma]\n",
    "    elif val==min_val:\n",
    "        min_args.append(sigma)\n",
    "\n",
    "\n",
    "print(min_val)\n",
    "print(min_args)\n"
   ]
  },
  {
   "cell_type": "markdown",
   "metadata": {},
   "source": [
    "ADD CONCISE CONLUSION."
   ]
  }
 ],
 "metadata": {
  "kernelspec": {
   "display_name": "base",
   "language": "python",
   "name": "python3"
  },
  "language_info": {
   "codemirror_mode": {
    "name": "ipython",
    "version": 3
   },
   "file_extension": ".py",
   "mimetype": "text/x-python",
   "name": "python",
   "nbconvert_exporter": "python",
   "pygments_lexer": "ipython3",
   "version": "3.9.16"
  },
  "toc-autonumbering": true,
  "vscode": {
   "interpreter": {
    "hash": "47ef90cdf3004d3f859f1fb202523c65c07ba7c22eefd261b181f4744e2d0403"
   }
  }
 },
 "nbformat": 4,
 "nbformat_minor": 4
}
