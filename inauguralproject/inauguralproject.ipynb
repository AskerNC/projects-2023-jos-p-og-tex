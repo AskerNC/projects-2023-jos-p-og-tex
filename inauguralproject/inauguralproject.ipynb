{
 "cells": [
  {
   "attachments": {},
   "cell_type": "markdown",
   "metadata": {},
   "source": [
    "# Inaugural Project - by Josefine, Viktor and Pernille"
   ]
  },
  {
   "attachments": {},
   "cell_type": "markdown",
   "metadata": {},
   "source": [
    "> **Structure** \n",
    "> 1. We import and set magics for our **inaugural project**.\n",
    "> 1. We define our problem and functions\n",
    "> 1. We solve questions 1-5"
   ]
  },
  {
   "cell_type": "markdown",
   "metadata": {},
   "source": [
    "Imports and set magics:"
   ]
  },
  {
   "cell_type": "code",
   "execution_count": 2,
   "metadata": {},
   "outputs": [],
   "source": [
    "import numpy as np\n",
    "\n",
    "# autoreload modules when code is run. Otherwise, python will not see recent changes. \n",
    "%load_ext autoreload\n",
    "%autoreload 2\n",
    "\n",
    "# Import your own code\n",
    "from inauguralproject import HouseholdSpecializationModelClass\n",
    "model = HouseholdSpecializationModelClass()"
   ]
  },
  {
   "cell_type": "markdown",
   "metadata": {},
   "source": [
    "# Question 1"
   ]
  },
  {
   "attachments": {},
   "cell_type": "markdown",
   "metadata": {},
   "source": [
    "We illustrate how the following expression changes with varying alpha and sigma values $$ \\frac{H_F}{H_M} $$  "
   ]
  },
  {
   "attachments": {},
   "cell_type": "markdown",
   "metadata": {},
   "source": [
    "The expression depicts the relationship between hours worked at home for females relative to males. We solve question 1:"
   ]
  },
  {
   "cell_type": "code",
   "execution_count": 3,
   "metadata": {},
   "outputs": [
    {
     "name": "stderr",
     "output_type": "stream",
     "text": [
      "c:\\Users\\vikto\\Documents\\A Økonomi\\8. Semester\\IntroProg\\Python og VScode\\projects-2023-jos-p-og-tex\\inauguralproject\\inauguralproject.py:72: RuntimeWarning: divide by zero encountered in reciprocal\n",
      "  H = ((1-par.alpha)*HM**((par.sigma-1)/par.sigma) + par.alpha*HF**((par.sigma-1)/par.sigma))**(par.sigma/(par.sigma-1))\n"
     ]
    },
    {
     "name": "stdout",
     "output_type": "stream",
     "text": [
      "alpha = 0.25, sigma = 0.50 -> HF/HM = 3.00/5.50 = 0.55\n",
      "alpha = 0.25, sigma = 1.00 -> HF/HM = 2.00/6.50 = 0.31\n",
      "alpha = 0.25, sigma = 1.50 -> HF/HM = 1.50/7.00 = 0.21\n",
      "alpha = 0.50, sigma = 0.50 -> HF/HM = 4.50/4.50 = 1.00\n",
      "alpha = 0.50, sigma = 1.00 -> HF/HM = 4.50/4.50 = 1.00\n",
      "alpha = 0.50, sigma = 1.50 -> HF/HM = 4.50/4.50 = 1.00\n",
      "alpha = 0.75, sigma = 0.50 -> HF/HM = 5.50/3.00 = 1.83\n",
      "alpha = 0.75, sigma = 1.00 -> HF/HM = 6.50/2.00 = 3.25\n",
      "alpha = 0.75, sigma = 1.50 -> HF/HM = 7.00/1.50 = 4.67\n"
     ]
    }
   ],
   "source": [
    "# We define lists for the varying alpha and sigma values\n",
    "alpha_list = [0.25, 0.5, 0.75]\n",
    "sigma_list = [0.5, 1.0, 1.5]\n",
    "\n",
    "# We solve the model using the defined lists of values for sigma and alpha\n",
    "for alpha in alpha_list:    \n",
    "    for sigma in sigma_list:\n",
    "        # Assigning values to alpha and sigma\n",
    "        model.par.alpha = alpha\n",
    "        model.par.sigma = sigma\n",
    "\n",
    "        # Solving the model\n",
    "        opt = model.solve_discrete()\n",
    "\n",
    "        # Print results\n",
    "        print(f\"alpha = {alpha:.2f}, sigma = {sigma:.2f} -> HF/HM = {opt.HF:.2f}/{opt.HM:.2f} = {opt.HF/opt.HM:.2f}\")"
   ]
  },
  {
   "cell_type": "code",
   "execution_count": 4,
   "metadata": {},
   "outputs": [],
   "source": [
    "# Evt. lav plot over resultaterne"
   ]
  },
  {
   "attachments": {},
   "cell_type": "markdown",
   "metadata": {},
   "source": [
    "As is shown in the above results, "
   ]
  },
  {
   "cell_type": "markdown",
   "metadata": {},
   "source": [
    "# Question 2"
   ]
  },
  {
   "attachments": {},
   "cell_type": "markdown",
   "metadata": {},
   "source": [
    "We plot the following logaritmic functions against eachother using varying values for female wage: $$ log\\frac{H_F}{H_M} --- log\\frac{w_F}{w_M}$$ "
   ]
  },
  {
   "cell_type": "code",
   "execution_count": 5,
   "metadata": {},
   "outputs": [
    {
     "name": "stdout",
     "output_type": "stream",
     "text": [
      "wF = 0.80 -> HF/HM = 5.00/4.00 = 1.2500000000\n",
      "wF = 0.90 -> HF/HM = 4.50/4.50 = 1.0000000000\n",
      "wF = 1.00 -> HF/HM = 4.50/4.50 = 1.0000000000\n",
      "wF = 1.10 -> HF/HM = 4.00/4.50 = 0.8888888889\n",
      "wF = 1.20 -> HF/HM = 4.00/5.00 = 0.8000000000\n"
     ]
    },
    {
     "ename": "NameError",
     "evalue": "name 'plt' is not defined",
     "output_type": "error",
     "traceback": [
      "\u001b[1;31m---------------------------------------------------------------------------\u001b[0m",
      "\u001b[1;31mNameError\u001b[0m                                 Traceback (most recent call last)",
      "Cell \u001b[1;32mIn[5], line 22\u001b[0m\n\u001b[0;32m     19\u001b[0m         \u001b[39m# Print results\u001b[39;00m\n\u001b[0;32m     20\u001b[0m         \u001b[39mprint\u001b[39m(\u001b[39mf\u001b[39m\u001b[39m\"\u001b[39m\u001b[39mwF = \u001b[39m\u001b[39m{\u001b[39;00mwF\u001b[39m:\u001b[39;00m\u001b[39m.2f\u001b[39m\u001b[39m}\u001b[39;00m\u001b[39m -> HF/HM = \u001b[39m\u001b[39m{\u001b[39;00mopt\u001b[39m.\u001b[39mHF\u001b[39m:\u001b[39;00m\u001b[39m.2f\u001b[39m\u001b[39m}\u001b[39;00m\u001b[39m/\u001b[39m\u001b[39m{\u001b[39;00mopt\u001b[39m.\u001b[39mHM\u001b[39m:\u001b[39;00m\u001b[39m.2f\u001b[39m\u001b[39m}\u001b[39;00m\u001b[39m = \u001b[39m\u001b[39m{\u001b[39;00mopt\u001b[39m.\u001b[39mHF\u001b[39m/\u001b[39mopt\u001b[39m.\u001b[39mHM\u001b[39m:\u001b[39;00m\u001b[39m.10f\u001b[39m\u001b[39m}\u001b[39;00m\u001b[39m\"\u001b[39m)\n\u001b[1;32m---> 22\u001b[0m fig1 \u001b[39m=\u001b[39m plt\u001b[39m.\u001b[39mfigure(figsize\u001b[39m=\u001b[39m(\u001b[39m6\u001b[39m,\u001b[39m4\u001b[39m))\n\u001b[0;32m     23\u001b[0m ax \u001b[39m=\u001b[39m fig1\u001b[39m.\u001b[39madd_subplot(\u001b[39m1\u001b[39m,\u001b[39m1\u001b[39m,\u001b[39m1\u001b[39m)\n\u001b[0;32m     25\u001b[0m ax\u001b[39m.\u001b[39mplot(w_log,H_log,ls\u001b[39m=\u001b[39m\u001b[39m'\u001b[39m\u001b[39m-\u001b[39m\u001b[39m'\u001b[39m,lw\u001b[39m=\u001b[39m\u001b[39m2\u001b[39m,color\u001b[39m=\u001b[39m\u001b[39m'\u001b[39m\u001b[39mblack\u001b[39m\u001b[39m'\u001b[39m,label\u001b[39m=\u001b[39m\u001b[39m'\u001b[39m\u001b[39m$f(x)$\u001b[39m\u001b[39m'\u001b[39m)\n",
      "\u001b[1;31mNameError\u001b[0m: name 'plt' is not defined"
     ]
    }
   ],
   "source": [
    "model.par.alpha = 0.5\n",
    "model.par.sigma = 1.0\n",
    "\n",
    "# Create an empty list to store values of w and H \n",
    "w_log = []\n",
    "H_log = []\n",
    "\n",
    "# We create a for loop \n",
    "for wF in model.par.wF_vec:    \n",
    "\n",
    "# Assigning values to alpha and sigma\n",
    "        model.par.wF = wF\n",
    "\n",
    "        # Solving the model\n",
    "        opt = model.solve_discrete()\n",
    "        w_log.append(np.log(model.par.wF/model.par.wM))\n",
    "        H_log.append(np.log(opt.HF/opt.HM))\n",
    "\n",
    "        # Print results\n",
    "        print(f\"wF = {wF:.2f} -> HF/HM = {opt.HF:.2f}/{opt.HM:.2f} = {opt.HF/opt.HM:.10f}\")\n",
    "\n",
    "fig1 = plt.figure(figsize=(6,4))\n",
    "ax = fig1.add_subplot(1,1,1)\n",
    "\n",
    "ax.plot(w_log,H_log,ls='-',lw=2,color='black',label='$f(x)$')\n",
    "\n",
    "ax.set_xlabel('$ log(w_F/w_M) $')\n",
    "ax.set_ylabel('$ log(H_F/H_M) $')\n",
    "ax.legend(loc='lower center',frameon=True);"
   ]
  },
  {
   "cell_type": "markdown",
   "metadata": {},
   "source": [
    "# Question 3"
   ]
  },
  {
   "cell_type": "markdown",
   "metadata": {},
   "source": [
    "Explain your code and procedure"
   ]
  },
  {
   "cell_type": "code",
   "execution_count": null,
   "metadata": {},
   "outputs": [],
   "source": [
    "# code"
   ]
  },
  {
   "attachments": {},
   "cell_type": "markdown",
   "metadata": {},
   "source": [
    "# Question 4"
   ]
  },
  {
   "cell_type": "markdown",
   "metadata": {},
   "source": [
    "Explain your code and procedure"
   ]
  },
  {
   "cell_type": "code",
   "execution_count": null,
   "metadata": {},
   "outputs": [],
   "source": [
    "# code"
   ]
  },
  {
   "attachments": {},
   "cell_type": "markdown",
   "metadata": {},
   "source": [
    "# Question 5"
   ]
  },
  {
   "cell_type": "markdown",
   "metadata": {},
   "source": [
    "Explain your code and procedure"
   ]
  },
  {
   "cell_type": "code",
   "execution_count": null,
   "metadata": {},
   "outputs": [],
   "source": [
    "# code"
   ]
  },
  {
   "cell_type": "markdown",
   "metadata": {},
   "source": [
    "ADD CONCISE CONLUSION."
   ]
  }
 ],
 "metadata": {
  "kernelspec": {
   "display_name": "base",
   "language": "python",
   "name": "python3"
  },
  "language_info": {
   "codemirror_mode": {
    "name": "ipython",
    "version": 3
   },
   "file_extension": ".py",
   "mimetype": "text/x-python",
   "name": "python",
   "nbconvert_exporter": "python",
   "pygments_lexer": "ipython3",
   "version": "3.9.16"
  },
  "toc-autonumbering": true,
  "vscode": {
   "interpreter": {
    "hash": "47ef90cdf3004d3f859f1fb202523c65c07ba7c22eefd261b181f4744e2d0403"
   }
  }
 },
 "nbformat": 4,
 "nbformat_minor": 4
}
