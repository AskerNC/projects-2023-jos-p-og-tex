{
 "cells": [
  {
   "attachments": {},
   "cell_type": "markdown",
   "metadata": {},
   "source": [
    "# Inaugural Project - by Josefine, Viktor and Pernille"
   ]
  },
  {
   "attachments": {},
   "cell_type": "markdown",
   "metadata": {},
   "source": [
    "> **Table of contents** \n",
    "> 1. We import and set magics for our **inaugural project**.\n",
    "> 1. We solve questions 1-5\n",
    "> 1. Finally, we conclude on our project"
   ]
  },
  {
   "attachments": {},
   "cell_type": "markdown",
   "metadata": {},
   "source": [
    "\n",
    "\n",
    "Imports and set magics:"
   ]
  },
  {
   "cell_type": "code",
   "execution_count": null,
   "metadata": {},
   "outputs": [],
   "source": [
    "import numpy as np\n",
    "import matplotlib.pyplot as plt\n",
    "\n",
    "# Predefine options for all plots\n",
    "plt.rcParams.update({\"axes.grid\":True,\"grid.color\":\"black\",\"grid.alpha\":\"0.25\",\"grid.linestyle\":\"-\"})\n",
    "plt.rcParams.update({'font.size': 14})\n",
    "\n",
    "# autoreload modules when code is run. Otherwise, python will not see recent changes. \n",
    "%load_ext autoreload\n",
    "%autoreload 2\n",
    "\n",
    "# Import your own code\n",
    "from inauguralproject import HouseholdSpecializationModelClass\n",
    "model = HouseholdSpecializationModelClass()"
   ]
  },
  {
   "attachments": {},
   "cell_type": "markdown",
   "metadata": {},
   "source": [
    "# Question 1"
   ]
  },
  {
   "attachments": {},
   "cell_type": "markdown",
   "metadata": {},
   "source": [
    "We illustrate how the following expression changes with varying alpha and sigma values, assuming that the choice set for the model is discrete i.e. in half hours. $$ \\frac{H_F}{H_M} $$  "
   ]
  },
  {
   "attachments": {},
   "cell_type": "markdown",
   "metadata": {},
   "source": [
    "The expression depicts the relationship for homeproduction between females and males. We solve question 1:"
   ]
  },
  {
   "cell_type": "code",
   "execution_count": null,
   "metadata": {},
   "outputs": [],
   "source": [
    "# We define lists for the varying alpha and sigma values\n",
    "alpha_list = [0.25, 0.5, 0.75]\n",
    "sigma_list = [0.5, 1.0, 1.5]\n",
    "\n",
    "# We solve the model using the defined lists of values for sigma and alpha\n",
    "for alpha in alpha_list:    \n",
    "    for sigma in sigma_list:\n",
    "        \n",
    "        # Assigning values to alpha and sigma\n",
    "        model.par.alpha = alpha\n",
    "        model.par.sigma = sigma\n",
    "\n",
    "        # Solving the model\n",
    "        opt = model.solve_discrete()\n",
    "\n",
    "        # Print results\n",
    "        print(f\"alpha = {alpha:.2f}, sigma = {sigma:.2f} -> HF/HM = {opt.HF:.2f}/{opt.HM:.2f} = {opt.HF/opt.HM:.2f}\")"
   ]
  },
  {
   "cell_type": "code",
   "execution_count": null,
   "metadata": {},
   "outputs": [],
   "source": [
    "# Evt. lav plot over resultaterne"
   ]
  },
  {
   "attachments": {},
   "cell_type": "markdown",
   "metadata": {},
   "source": [
    "From these results we gather, that *alpha* represents how productive the female is in the household relative to the male, and *sigma* represents the elasticity of substitution. \n",
    "\n",
    "We conclude the following:\n",
    "\n",
    "- For alpha = 0.5 the male and female are equally productive and sigma has no effect. \n",
    "- For alpha > 0.5 the female is more productive, and for wF = wM = 1, the female will work more hours in the household compared to the male. \n",
    "- For alpha < 0.5 the female is less productive, and for wF = wM = 1, the female will work less hours in the household compared to the male."
   ]
  },
  {
   "cell_type": "markdown",
   "metadata": {},
   "source": [
    "# Question 2"
   ]
  },
  {
   "attachments": {},
   "cell_type": "markdown",
   "metadata": {},
   "source": [
    "We plot the following logaritmic functions against eachother using varying values for female wage: $$ log\\frac{H_F}{H_M} \\\\\\ \\\\\\ log\\frac{w_F}{w_M}$$ "
   ]
  },
  {
   "attachments": {},
   "cell_type": "markdown",
   "metadata": {},
   "source": [
    "Our model is still based upon the assumption of a discrete choice set. \n",
    "\n",
    "We solve question 2:"
   ]
  },
  {
   "cell_type": "code",
   "execution_count": null,
   "metadata": {},
   "outputs": [],
   "source": [
    "# We define a new model = model2 to overwrite changes made in previous questions\n",
    "model2 = HouseholdSpecializationModelClass()\n",
    "\n",
    "# We create an empty list to store values of w and H \n",
    "w_log = []\n",
    "H_log = []\n",
    "\n",
    "# We create a for loop \n",
    "for wF in model2.par.wF_vec:    \n",
    "\n",
    "# xxx\n",
    "        model2.par.wF = wF\n",
    "\n",
    "        # Solving the model\n",
    "        opt = model2.solve_discrete()\n",
    "        w_log.append(np.log(model2.par.wF/model2.par.wM))\n",
    "        H_log.append(np.log(opt.HF/opt.HM))\n",
    "\n",
    "        # Print results\n",
    "        print(f\"wF = {wF:.2f} -> HF/HM = {opt.HF:.2f}/{opt.HM:.2f} = {opt.HF/opt.HM:.3f}\")\n",
    "\n",
    "# We plot the results\n",
    "fig1 = plt.figure(figsize = (6,4))\n",
    "ax = fig1.add_subplot(1,1,1)\n",
    "\n",
    "ax.plot(w_log,H_log,ls='-',lw=2,color='blue')\n",
    "\n",
    "ax.set_xlabel('$ log(w_F/w_M) $')\n",
    "ax.set_ylabel('$ log(H_F/H_M) $')\n"
   ]
  },
  {
   "attachments": {},
   "cell_type": "markdown",
   "metadata": {},
   "source": [
    "**Figure 1** illustrates that the ratio HF/HM is decreasing in wF/wM. It depicts the relationsship between log of the relative homeproduction and log of relative wages. The plot showcases, that when the wage ratio increases, then the production in the household decreases. \n",
    "\n",
    "However, due to the assumption of discrete time, we see that for $$w_F = 0.9$$ and $$w_F = 1.0$$ there is no change in the ratio, as **HVORFOR VAR DET?**. In the following question 3, this minor error is cleared, when we do the same task with an assumption of continous time. "
   ]
  },
  {
   "cell_type": "markdown",
   "metadata": {},
   "source": [
    "# Question 3"
   ]
  },
  {
   "attachments": {},
   "cell_type": "markdown",
   "metadata": {},
   "source": [
    "In question 3 we assume that time is continous rather than discrete. This means that there are infinitely many choice set possibilities. \n",
    "\n",
    "Again we plot the following logaritmic functions against eachother using varying values for female wage: $$ log\\frac{H_F}{H_M} \\\\\\ \\\\\\ log\\frac{w_F}{w_M}$$ \n",
    "\n",
    "We solve question 3:"
   ]
  },
  {
   "cell_type": "code",
   "execution_count": null,
   "metadata": {},
   "outputs": [],
   "source": [
    "# We define a new model = model3 to overwrite changes made in the previous questions\n",
    "model3 = HouseholdSpecializationModelClass()\n",
    "\n",
    "# Create an empty list to store values of w and H \n",
    "w_log2 = []\n",
    "H_log2 = []\n",
    "\n",
    "# We create a for loop \n",
    "for wF in model3.par.wF_vec:    \n",
    "\n",
    "# xxx\n",
    "        model3.par.wF = wF\n",
    "\n",
    "        # Solving the model\n",
    "        opt = model3.solve()\n",
    "        w_log2.append(np.log(model3.par.wF/model3.par.wM))\n",
    "        H_log2.append(np.log(opt.HF/opt.HM))\n",
    "\n",
    "        # Print results\n",
    "        print(f\"wF = {wF:.2f} -> HF/HM = {opt.HF:.2f}/{opt.HM:.2f} = {opt.HF/opt.HM:.3f}\")\n",
    "\n",
    "# We plot the results\n",
    "fig2 = plt.figure(figsize = (6,4))\n",
    "ax = fig2.add_subplot(1,1,1)\n",
    "\n",
    "ax.plot(w_log2,H_log2,ls='-',lw=2,color='blue')\n",
    "\n",
    "ax.set_xlabel('$ log(w_F/w_M) $')\n",
    "ax.set_ylabel('$ log(H_F/H_M) $')\n",
    "\n"
   ]
  },
  {
   "attachments": {},
   "cell_type": "markdown",
   "metadata": {},
   "source": [
    "**Figure 2** illustrates the same results as in question 3, however due to the introduction of continous time the graph is much smoother. Furthermore, the results are also more precise.  "
   ]
  },
  {
   "attachments": {},
   "cell_type": "markdown",
   "metadata": {},
   "source": [
    "# Question 4"
   ]
  },
  {
   "attachments": {},
   "cell_type": "markdown",
   "metadata": {},
   "source": [
    "In Siminski and Yetsenga (2022), *Specialization, Comparative Advantage, and the Sexual Division of Labor*, the following regression is run on time use data of couples:\n",
    "\n",
    "$$ log\\frac{H_F}{H_M} = \\beta_0 + \\beta_1*log\\frac{w_F}{w_M}$$ "
   ]
  },
  {
   "attachments": {},
   "cell_type": "markdown",
   "metadata": {},
   "source": [
    "They estimate the beta values to be approximately.: $$ \\beta_0 = 0.4 $$ $$ \\beta_1 = -0.1 $$"
   ]
  },
  {
   "attachments": {},
   "cell_type": "markdown",
   "metadata": {},
   "source": [
    "In question 4 we estimate values of alpha and sigma that gets us closest to the values found in Siminski and Yetsenga (2022). We do this by creating a for loop that run through different values of sigma and alpha until it reaches the values that minimize the following expression:\n",
    "\n",
    " $$ (\\beta_0 - \\beta hat_0)^2 + (\\beta_1 - \\beta hat_1)^2 $$"
   ]
  },
  {
   "cell_type": "code",
   "execution_count": null,
   "metadata": {},
   "outputs": [],
   "source": [
    "# We define a new model = model4 to overwrite changes made in the previous questions\n",
    "model4 = HouseholdSpecializationModelClass()\n",
    "\n",
    "# xxx\n",
    "min_val = float('inf')\n",
    "min_args = []\n",
    "\n",
    "# xxx\n",
    "for alpha in range(1,101):\n",
    "    alpha = alpha/100.0    \n",
    "    for sigma in range(1,101):\n",
    "        sigma=sigma/100.0\n",
    "\n",
    "        # xxx\n",
    "        model4.par.alpha = alpha\n",
    "        model4.par.sigma = sigma\n",
    "        beta0 = 0.4\n",
    "        beta1 = -0.1\n",
    "\n",
    "        sol = model4.run_regression()\n",
    "        val = (beta0-model4.sol.beta0)**2+(beta1-model4.sol.beta1)**2\n",
    "        if val<min_val:\n",
    "            min_val=val\n",
    "            min_args=[alpha,sigma]\n",
    "        elif val==min_val:\n",
    "            min_args.append(alpha)\n",
    "            min_args.append(sigma)\n",
    "\n",
    "\n",
    "print(min_val)\n",
    "print(min_args)\n"
   ]
  },
  {
   "cell_type": "code",
   "execution_count": null,
   "metadata": {},
   "outputs": [],
   "source": [
    "model4.par.alpha=min_args[0]\n",
    "model4.par.sigma=min_args[1]\n",
    "sol = model4.run_regression()\n",
    "print(model4.sol.beta0,model4.sol.beta1)"
   ]
  },
  {
   "attachments": {},
   "cell_type": "markdown",
   "metadata": {},
   "source": [
    "# Question 5"
   ]
  },
  {
   "cell_type": "markdown",
   "metadata": {},
   "source": [
    "Explain your code and procedure"
   ]
  },
  {
   "cell_type": "code",
   "execution_count": null,
   "metadata": {},
   "outputs": [],
   "source": [
    "model5 = HouseholdSpecializationModelClass()\n",
    "\n",
    "results = model5.extension()\n",
    "\n",
    "sol = model5.run_regression()\n",
    "print(model5.sol.beta0,model5.sol.beta1)\n"
   ]
  },
  {
   "cell_type": "code",
   "execution_count": null,
   "metadata": {},
   "outputs": [],
   "source": [
    "model5 = HouseholdSpecializationModelClass()\n",
    "\n",
    "\n",
    "# We define lists for the varying alpha and sigma values\n",
    "min_val = float('inf')\n",
    "min_args = []\n",
    "\n",
    "# We solve the model using the defined lists of values for sigma and alpha  \n",
    "for sigma in range(1,101):\n",
    "    sigma=sigma/100.0\n",
    "    \n",
    "    # Assigning values to alpha and sigma\n",
    "    model5.par.alpha = 0.5\n",
    "    model5.par.sigma = sigma\n",
    "    beta0 = 0.4\n",
    "    beta1 = -0.1\n",
    "\n",
    "    sol = model5.run_regression()\n",
    "    val = (beta0-model5.sol.beta0)**2+(beta1-model5.sol.beta1)**2\n",
    "    if val<min_val:\n",
    "        min_val=val\n",
    "        min_args=[sigma]\n",
    "    elif val==min_val:\n",
    "        min_args.append(sigma)\n",
    "\n",
    "\n",
    "print(min_val)\n",
    "print(min_args)\n"
   ]
  },
  {
   "cell_type": "markdown",
   "metadata": {},
   "source": [
    "ADD CONCISE CONLUSION."
   ]
  }
 ],
 "metadata": {
  "kernelspec": {
   "display_name": "base",
   "language": "python",
   "name": "python3"
  },
  "language_info": {
   "codemirror_mode": {
    "name": "ipython",
    "version": 3
   },
   "file_extension": ".py",
   "mimetype": "text/x-python",
   "name": "python",
   "nbconvert_exporter": "python",
   "pygments_lexer": "ipython3",
   "version": "3.9.16"
  },
  "toc-autonumbering": true,
  "vscode": {
   "interpreter": {
    "hash": "47ef90cdf3004d3f859f1fb202523c65c07ba7c22eefd261b181f4744e2d0403"
   }
  }
 },
 "nbformat": 4,
 "nbformat_minor": 4
}
